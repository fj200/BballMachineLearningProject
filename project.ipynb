{
 "cells": [
  {
   "cell_type": "markdown",
   "metadata": {},
   "source": [
    "# PROJECT EECS 4404"
   ]
  },
  {
   "cell_type": "markdown",
   "metadata": {},
   "source": [
    "Preprocessing \n",
    "\n",
    "**Feature selection**\n",
    "\n",
    "**Feature extraction**"
   ]
  },
  {
   "cell_type": "code",
   "execution_count": 1,
   "metadata": {},
   "outputs": [],
   "source": [
    "# %pip install xgboost\n",
    "# %pip install lightgbm\n",
    "# %pip install imbalanced-learn"
   ]
  },
  {
   "cell_type": "code",
   "execution_count": 2,
   "metadata": {},
   "outputs": [],
   "source": [
    "\n",
    "# Data Manipulation\n",
    "import numpy as np \n",
    "import pandas as pd\n",
    "\n",
    "# Data Visualization\n",
    "import matplotlib.pyplot as plt\n",
    "\n",
    "# Machine Learning\n",
    "from   sklearn.preprocessing import OneHotEncoder, MinMaxScaler\n",
    "from   sklearn.model_selection import train_test_split, GridSearchCV\n",
    "from   sklearn.metrics import confusion_matrix , classification_report, accuracy_score, roc_auc_score, RocCurveDisplay\n",
    "from   sklearn.linear_model import LogisticRegression\n",
    "from   sklearn.tree import DecisionTreeClassifier\n",
    "from   sklearn.ensemble import RandomForestClassifier, ExtraTreesClassifier\n",
    "from   sklearn.neighbors import KNeighborsClassifier\n",
    "from   xgboost import XGBClassifier\n",
    "from   lightgbm import LGBMClassifier\n",
    "from   imblearn.over_sampling import RandomOverSampler\n",
    "from   sklearn.feature_selection import SelectKBest, f_classif, RFECV\n",
    "from   sklearn.neural_network import MLPClassifier\n",
    "\n",
    "# Keras\n",
    "# from keras.models import Sequential\n",
    "# from keras.layers import Dense\n",
    "# from keras.optimizers import SGD, Adam, Adadelta, RMSprop\n",
    "# import keras.backend as K\n",
    "\n",
    "input_file_name = \"data/Player Per Game.csv\"\n",
    "input_target_class = 'pos'\n",
    "nba_players = label = features = X = Y = None\n",
    "encoder = OneHotEncoder()\n",
    "\n",
    "\n",
    "def visualizeData(nba_players):\n",
    "    ### no null values\n",
    "    nba_players.info()  \n",
    "    ## metrics\n",
    "    print(nba_players.groupby(input_target_class).mean())\n",
    "    # count of the values to make sure it was relatively balanced\n",
    "    print(nba_players[input_target_class].value_counts())\n",
    "\n",
    "def dropColumns(players, features):\n",
    "    ## drop some irrevelant features\n",
    "    players.drop(features, axis=1, inplace=True)\n",
    " \n"
   ]
  },
  {
   "cell_type": "code",
   "execution_count": 3,
   "metadata": {},
   "outputs": [
    {
     "data": {
      "text/plain": [
       "(25064, 22)"
      ]
     },
     "execution_count": 3,
     "metadata": {},
     "output_type": "execute_result"
    }
   ],
   "source": [
    "nba_players = pd.read_csv(input_file_name).replace({\"C-SF\": \"C\", \"C-F\": \"C\", \"C-PF\": \"C\", \"PG-SG\": \"PG\",\"PG-SF\":\"PG\",  \"PF-SF\": \"PF\", \"PF-C\": \"PF\", \"SF-SG\": \"SF\", \"SF-PG\": \"SF\", \"PF-C\": \"PF\", \"SG-SF\": \"SG\", \"SG-PG\": \"SG\", \"SG-PF\": \"SG\", \"SF-C\": \"SF\", \"SG-SF\": \"SG\", \"SG-PG-SF\": \"SG\", \"SF-PF\": \"SF\",})\n",
    "nba_players.drop_duplicates(inplace=True)\n",
    "nba_players = nba_players[nba_players['pos'].isin([\"SG\", \"PF\", \"C\", \"SF\", \"PG\"])]\n",
    "dropColumns(nba_players, {'seas_id', 'season', 'player_id', 'player', 'birth_year','age',\n",
    "       'experience', 'lg', 'tm', 'g', 'gs', 'mp_per_game'})\n",
    "features = list(nba_players.columns.delete(0))\n",
    "\n",
    "for i in nba_players.columns[nba_players.isnull().any(axis=0)]:     #---Applying Only on variables with NaN values\n",
    "   nba_players[i].fillna(nba_players[i].mean(),inplace=True)\n",
    "\n",
    "\n",
    "x = nba_players[features].values\n",
    "y = nba_players[input_target_class].values\n",
    "y = encoder.fit_transform(np.reshape(y, (-1, 1))).toarray()\n",
    "X_train, X_test, y_train, y_test = train_test_split(x, y, test_size=0.18, random_state=42)\n",
    "min_max_scaler = MinMaxScaler().fit(X_train)  \n",
    "X_train, X_test = min_max_scaler.transform(X_train), min_max_scaler.transform(X_test)\n",
    "\n",
    "X_train.shape\n"
   ]
  },
  {
   "cell_type": "code",
   "execution_count": 4,
   "metadata": {},
   "outputs": [
    {
     "name": "stdout",
     "output_type": "stream",
     "text": [
      "<class 'pandas.core.frame.DataFrame'>\n",
      "Int64Index: 30567 entries, 0 to 31534\n",
      "Data columns (total 23 columns):\n",
      " #   Column         Non-Null Count  Dtype  \n",
      "---  ------         --------------  -----  \n",
      " 0   pos            30567 non-null  object \n",
      " 1   fg_per_game    30567 non-null  float64\n",
      " 2   fga_per_game   30567 non-null  float64\n",
      " 3   fg_percent     30567 non-null  float64\n",
      " 4   x3p_per_game   30567 non-null  float64\n",
      " 5   x3pa_per_game  30567 non-null  float64\n",
      " 6   x3p_percent    30567 non-null  float64\n",
      " 7   x2p_per_game   30567 non-null  float64\n",
      " 8   x2pa_per_game  30567 non-null  float64\n",
      " 9   x2p_percent    30567 non-null  float64\n",
      " 10  e_fg_percent   30567 non-null  float64\n",
      " 11  ft_per_game    30567 non-null  float64\n",
      " 12  fta_per_game   30567 non-null  float64\n",
      " 13  ft_percent     30567 non-null  float64\n",
      " 14  orb_per_game   30567 non-null  float64\n",
      " 15  drb_per_game   30567 non-null  float64\n",
      " 16  trb_per_game   30567 non-null  float64\n",
      " 17  ast_per_game   30567 non-null  float64\n",
      " 18  stl_per_game   30567 non-null  float64\n",
      " 19  blk_per_game   30567 non-null  float64\n",
      " 20  tov_per_game   30567 non-null  float64\n",
      " 21  pf_per_game    30567 non-null  float64\n",
      " 22  pts_per_game   30567 non-null  float64\n",
      "dtypes: float64(22), object(1)\n",
      "memory usage: 5.6+ MB\n",
      "     fg_per_game  fga_per_game  fg_percent  x3p_per_game  x3pa_per_game  \\\n",
      "pos                                                                       \n",
      "C       2.923135      6.109922    0.466696      0.158731       0.477291   \n",
      "PF      3.146323      6.852738    0.447991      0.320833       0.954840   \n",
      "PG      3.191206      7.472175    0.412276      0.604925       1.773504   \n",
      "SF      3.395543      7.653616    0.426897      0.537584       1.561153   \n",
      "SG      3.447625      7.995579    0.414016      0.681488       1.953813   \n",
      "\n",
      "     x3p_percent  x2p_per_game  x2pa_per_game  x2p_percent  e_fg_percent  ...  \\\n",
      "pos                                                                       ...   \n",
      "C       0.214833      2.851092       5.886282     0.474706      0.472200  ...   \n",
      "PF      0.234194      2.902069       6.122620     0.467458      0.466159  ...   \n",
      "PG      0.286185      2.658914       5.909859     0.437794      0.448294  ...   \n",
      "SF      0.274370      2.947175       6.353162     0.454245      0.458341  ...   \n",
      "SG      0.290808      2.849334       6.286205     0.442734      0.453178  ...   \n",
      "\n",
      "     ft_percent  orb_per_game  drb_per_game  trb_per_game  ast_per_game  \\\n",
      "pos                                                                       \n",
      "C      0.661561      1.571495      3.380282      5.412887      1.057771   \n",
      "PF     0.695075      1.426425      3.186789      4.971163      1.216492   \n",
      "PG     0.767784      0.532775      1.774219      2.254920      3.691189   \n",
      "SF     0.735083      1.007725      2.449734      3.628967      1.534342   \n",
      "SG     0.760739      0.670560      1.872885      2.477198      2.076956   \n",
      "\n",
      "     stl_per_game  blk_per_game  tov_per_game  pf_per_game  pts_per_game  \n",
      "pos                                                                       \n",
      "C        0.488471      0.766070      1.167088     2.311127      7.458781  \n",
      "PF       0.576649      0.494813      1.181158     2.185657      8.154123  \n",
      "PG       0.847866      0.174860      1.517180     1.788543      8.581003  \n",
      "SF       0.686111      0.340145      1.206385     1.951665      8.931147  \n",
      "SG       0.731047      0.238915      1.269901     1.784951      9.186863  \n",
      "\n",
      "[5 rows x 22 columns]\n",
      "SG    6379\n",
      "PF    6282\n",
      "C     6138\n",
      "SF    5946\n",
      "PG    5822\n",
      "Name: pos, dtype: int64\n"
     ]
    },
    {
     "data": {
      "text/plain": [
       "fg_per_game      1.015685\n",
       "fga_per_game     0.935758\n",
       "fg_percent      -0.449294\n",
       "x3p_per_game     2.010991\n",
       "x3pa_per_game    1.785295\n",
       "x3p_percent      0.484556\n",
       "x2p_per_game     1.190572\n",
       "x2pa_per_game    1.153084\n",
       "x2p_percent     -0.341590\n",
       "e_fg_percent    -0.437402\n",
       "ft_per_game      1.629558\n",
       "fta_per_game     1.570396\n",
       "ft_percent      -1.436705\n",
       "orb_per_game     1.538010\n",
       "drb_per_game     1.477636\n",
       "trb_per_game     1.633362\n",
       "ast_per_game     1.846789\n",
       "stl_per_game     1.248359\n",
       "blk_per_game     3.028837\n",
       "tov_per_game     1.045606\n",
       "pf_per_game      0.091628\n",
       "pts_per_game     1.056928\n",
       "dtype: float64"
      ]
     },
     "execution_count": 4,
     "metadata": {},
     "output_type": "execute_result"
    }
   ],
   "source": [
    "visualizeData(nba_players)\n",
    "dropColumns(nba_players, input_target_class) \n",
    "nba_players.skew()"
   ]
  },
  {
   "cell_type": "code",
   "execution_count": 5,
   "metadata": {},
   "outputs": [
    {
     "name": "stderr",
     "output_type": "stream",
     "text": [
      "/Users/michaeldavid/anaconda3/lib/python3.11/site-packages/sklearn/utils/validation.py:1143: DataConversionWarning: A column-vector y was passed when a 1d array was expected. Please change the shape of y to (n_samples, ), for example using ravel().\n",
      "  y = column_or_1d(y, warn=True)\n"
     ]
    },
    {
     "name": "stdout",
     "output_type": "stream",
     "text": [
      "            Specs        Score\n",
      "16   ast_per_game  2336.868907\n",
      "13   orb_per_game  1914.252827\n",
      "18   blk_per_game  1673.675158\n",
      "15   trb_per_game  1605.388320\n",
      "14   drb_per_game  1035.885538\n",
      "4   x3pa_per_game   880.559484\n",
      "3    x3p_per_game   747.019180\n",
      "12     ft_percent   560.848951\n",
      "17   stl_per_game   519.001360\n",
      "20    pf_per_game   359.370089\n"
     ]
    },
    {
     "data": {
      "image/png": "[encoded data removed]",
      "text/plain": [
       "<Figure size 640x480 with 1 Axes>"
      ]
     },
     "metadata": {},
     "output_type": "display_data"
    },
    {
     "name": "stdout",
     "output_type": "stream",
     "text": [
      "Optimal number of features: 16\n"
     ]
    }
   ],
   "source": [
    "topFeatures = 10\n",
    "selector = SelectKBest(score_func=f_classif, k=topFeatures)  \n",
    "fit = selector.fit(X_train, encoder.inverse_transform(y_train))\n",
    "\n",
    "dfscores = pd.DataFrame(fit.scores_)\n",
    "dfcolumns = pd.DataFrame(features)\n",
    "#concat two dataframes for better visualization \n",
    "featureScores = pd.concat([dfcolumns,dfscores],axis=1)\n",
    "featureScores.columns = ['Specs','Score']  #naming the dataframe columns\n",
    "print(featureScores.nlargest(topFeatures,'Score'))\n",
    "\n",
    "model = ExtraTreesClassifier()\n",
    "model.fit(X_train, y_train)\n",
    "#plot graph of feature importances for better visualization\n",
    "feat_importances = pd.Series(model.feature_importances_, index=features)\n",
    "feat_importances.nlargest(topFeatures).plot(kind='barh')\n",
    "plt.show()\n",
    "\n",
    "rfc = RandomForestClassifier()\n",
    "min_features_to_select = 1  # Minimum number of features to consider\n",
    "\n",
    "rfecv = RFECV(\n",
    "    estimator=rfc,\n",
    "    step=1,\n",
    "    scoring=\"accuracy\",\n",
    "    min_features_to_select=min_features_to_select,\n",
    "    n_jobs=2,\n",
    ")\n",
    "rfecv.fit(X_train, y_train)\n",
    "\n",
    "print(f\"Optimal number of features: {rfecv.n_features_}\")"
   ]
  },
  {
   "cell_type": "code",
   "execution_count": 6,
   "metadata": {},
   "outputs": [
    {
     "name": "stdout",
     "output_type": "stream",
     "text": [
      "Index(['fga_per_game', 'fg_percent', 'x3pa_per_game', 'x2pa_per_game',\n",
      "       'x2p_percent', 'e_fg_percent', 'fta_per_game', 'ft_percent',\n",
      "       'orb_per_game', 'drb_per_game', 'trb_per_game', 'ast_per_game',\n",
      "       'stl_per_game', 'blk_per_game', 'pf_per_game', 'pts_per_game'],\n",
      "      dtype='object')\n"
     ]
    }
   ],
   "source": [
    "mask = rfecv.get_support()\n",
    "# mask[2] = False\n",
    "# mask[6] = mask[15] = True\n",
    "best_features = nba_players.columns[mask]\n",
    "print(best_features)  # choose using rfev selectKbest and featureInportance form classifiers\n",
    "X_old = X_train\n",
    "x_test = X_test\n",
    "X_train = X_train[:,mask]\n",
    "X_test  = X_test[:,mask]\n"
   ]
  },
  {
   "cell_type": "code",
   "execution_count": 7,
   "metadata": {},
   "outputs": [
    {
     "name": "stdout",
     "output_type": "stream",
     "text": [
      "The accuracy of prediction is:  0.520079956387425\n",
      "The number of accurate predictions is:  2862\n",
      "The accuracy of prediction is:  0.4592040705069962\n",
      "The number of accurate predictions is:  2527\n",
      "The accuracy of prediction is:  0.4344902780301654\n",
      "The number of accurate predictions is:  2391\n",
      "The accuracy of prediction is:  0.4344902780301654\n",
      "The number of accurate predictions is:  2391\n"
     ]
    }
   ],
   "source": [
    "model = DecisionTreeClassifier()\n",
    "model = model.fit(X_train, y_train)\n",
    "predictions = model.predict(X_test)\n",
    "accuracy = accuracy_score(y_test, predictions)\n",
    "print(\"The accuracy of prediction is: \", accuracy)\n",
    "\n",
    "# find number of accurate predictions\n",
    "accurate_predictions = accuracy_score(y_test, predictions, normalize=False)\n",
    "print(\"The number of accurate predictions is: \", accurate_predictions)\n",
    "\n",
    "model = RandomForestClassifier()\n",
    "model = model.fit(X_train, y_train)\n",
    "predictions = model.predict(X_test)\n",
    "accuracy = accuracy_score(y_test, predictions)\n",
    "print(\"The accuracy of prediction is: \", accuracy)\n",
    "\n",
    "# find number of accurate predictions\n",
    "accurate_predictions = accuracy_score(y_test, predictions, normalize=False)\n",
    "print(\"The number of accurate predictions is: \", accurate_predictions)\n",
    "\n",
    "model = ExtraTreesClassifier()\n",
    "model = model.fit(X_train, y_train)\n",
    "predictions = model.predict(X_test)\n",
    "accuracy = accuracy_score(y_test, predictions)\n",
    "print(\"The accuracy of prediction is: \", accuracy)\n",
    "\n",
    "# find number of accurate predictions\n",
    "accurate_predictions = accuracy_score(y_test, predictions, normalize=False)\n",
    "print(\"The number of accurate predictions is: \", accurate_predictions)\n",
    "\n",
    "model  = KNeighborsClassifier()\n",
    "model = model.fit(X_train, y_train)\n",
    "accuracy = accuracy_score(y_test, predictions)\n",
    "print(\"The accuracy of prediction is: \", accuracy)\n",
    "\n",
    "# find number of accurate predictions\n",
    "accurate_predictions = accuracy_score(y_test, predictions, normalize=False)\n",
    "print(\"The number of accurate predictions is: \", accurate_predictions)"
   ]
  },
  {
   "cell_type": "code",
   "execution_count": 8,
   "metadata": {},
   "outputs": [
    {
     "name": "stdout",
     "output_type": "stream",
     "text": [
      "The accuracy of prediction is:  0.37180817108203\n",
      "The number of accurate predictions is:  9319\n"
     ]
    }
   ],
   "source": [
    "#https://towardsdatascience.com/17-rules-of-thumb-for-building-a-neural-network-93356f9930af\n",
    "mlp = MLPClassifier(hidden_layer_sizes=(11,5, 2), activation='relu', solver='adam', max_iter=30000)\n",
    "mlp.fit(X_train,y_train)\n",
    "\n",
    "predictions = mlp.predict(X_train)\n",
    "# predictions = mlp.predict(X_test)\n",
    "accuracy = accuracy_score(y_train, predictions)\n",
    "print(\"The accuracy of prediction is: \", accuracy)\n",
    "\n",
    "# find number of accurate predictions\n",
    "accurate_predictions = accuracy_score(y_train, predictions, normalize=False)\n",
    "print(\"The number of accurate predictions is: \", accurate_predictions)"
   ]
  },
  {
   "cell_type": "code",
   "execution_count": 9,
   "metadata": {},
   "outputs": [
    {
     "name": "stdout",
     "output_type": "stream",
     "text": [
      "       seas_id  season  player_id          player  birth_year  pos   age  \\\n",
      "0        31136    2024       5025      A.J. Green         NaN   SG  24.0   \n",
      "1        31137    2024       5027      AJ Griffin         NaN   SF  20.0   \n",
      "2        31138    2024       4219    Aaron Gordon         NaN   PF  28.0   \n",
      "3        31139    2024       4582   Aaron Holiday         NaN   PG  27.0   \n",
      "4        31140    2024       4805   Aaron Nesmith         NaN   SF  24.0   \n",
      "...        ...     ...        ...             ...         ...  ...   ...   \n",
      "31545      200    1947        157     Walt Miller         NaN    F  31.0   \n",
      "31546      201    1947        158   Warren Fenley         NaN    F  24.0   \n",
      "31547      202    1947        159   Wilbert Kautz         NaN  G-F  31.0   \n",
      "31548      203    1947        160  Woody Grimshaw         NaN    G  27.0   \n",
      "31549      204    1947        161     Wyndol Gray         NaN  G-F  24.0   \n",
      "\n",
      "       experience   lg   tm  ...  ft_percent  orb_per_game  drb_per_game  \\\n",
      "0               2  NBA  MIL  ...       1.000           0.0           0.5   \n",
      "1               2  NBA  ATL  ...         NaN           0.3           1.0   \n",
      "2              10  NBA  DEN  ...       0.250           1.8           3.0   \n",
      "3               6  NBA  HOU  ...         NaN           0.0           0.0   \n",
      "4               4  NBA  IND  ...       0.833           1.7           4.3   \n",
      "...           ...  ...  ...  ...         ...           ...           ...   \n",
      "31545           1  BAA  PIT  ...       0.500           NaN           NaN   \n",
      "31546           1  BAA  BOS  ...       0.511           NaN           NaN   \n",
      "31547           1  BAA  CHS  ...       0.534           NaN           NaN   \n",
      "31548           1  BAA  PRO  ...       0.477           NaN           NaN   \n",
      "31549           1  BAA  BOS  ...       0.581           NaN           NaN   \n",
      "\n",
      "       trb_per_game  ast_per_game  stl_per_game  blk_per_game  tov_per_game  \\\n",
      "0               0.5           1.0           0.0           0.0           0.0   \n",
      "1               1.3           0.5           0.3           0.0           0.5   \n",
      "2               4.8           3.0           1.5           1.3           1.3   \n",
      "3               0.0           0.0           0.0           0.0           0.0   \n",
      "4               6.0           1.3           0.0           1.0           0.3   \n",
      "...             ...           ...           ...           ...           ...   \n",
      "31545           NaN           0.5           NaN           NaN           NaN   \n",
      "31546           NaN           0.5           NaN           NaN           NaN   \n",
      "31547           NaN           0.7           NaN           NaN           NaN   \n",
      "31548           NaN           0.0           NaN           NaN           NaN   \n",
      "31549           NaN           0.9           NaN           NaN           NaN   \n",
      "\n",
      "       pf_per_game  pts_per_game  \n",
      "0              1.5           3.5  \n",
      "1              0.3           4.3  \n",
      "2              1.5          13.8  \n",
      "3              0.0           0.0  \n",
      "4              3.3          12.7  \n",
      "...            ...           ...  \n",
      "31545          1.3           1.9  \n",
      "31546          1.8           2.6  \n",
      "31547          2.3           5.1  \n",
      "31548          1.2           2.9  \n",
      "31549          1.9           6.4  \n",
      "\n",
      "[31550 rows x 35 columns]\n"
     ]
    }
   ],
   "source": [
    "\n",
    "# Import pandas and glob\n",
    "import pandas as pd\n",
    "import glob\n",
    "\n",
    "# Get a list of all the CSV files in a directory\n",
    "files = glob.glob(\"data/Player Per Game.csv\")\n",
    "\n",
    "# Initialize an empty dataframe to hold the combined data\n",
    "combined_df = pd.DataFrame()\n",
    "\n",
    "# Loop through the files and read each one into a dataframe\n",
    "for file in files:\n",
    "    df = pd.read_csv(file)\n",
    "    # Concatenate the dataframe to the combined dataframe\n",
    "    combined_df = pd.concat([combined_df, df], ignore_index=True)\n",
    "\n",
    "# Print the combined dataframe\n",
    "print(combined_df)"
   ]
  },
  {
   "cell_type": "code",
   "execution_count": 10,
   "metadata": {},
   "outputs": [
    {
     "data": {
      "text/plain": [
       "Index(['seas_id', 'season', 'player_id', 'player', 'birth_year', 'pos', 'age',\n",
       "       'experience', 'lg', 'tm', 'g', 'gs', 'mp_per_game', 'fg_per_game',\n",
       "       'fga_per_game', 'fg_percent', 'x3p_per_game', 'x3pa_per_game',\n",
       "       'x3p_percent', 'x2p_per_game', 'x2pa_per_game', 'x2p_percent',\n",
       "       'e_fg_percent', 'ft_per_game', 'fta_per_game', 'ft_percent',\n",
       "       'orb_per_game', 'drb_per_game', 'trb_per_game', 'ast_per_game',\n",
       "       'stl_per_game', 'blk_per_game', 'tov_per_game', 'pf_per_game',\n",
       "       'pts_per_game'],\n",
       "      dtype='object')"
      ]
     },
     "execution_count": 10,
     "metadata": {},
     "output_type": "execute_result"
    }
   ],
   "source": [
    "combined_df.columns"
   ]
  },
  {
   "cell_type": "markdown",
   "metadata": {},
   "source": [
    "'seas_id', 'season', 'player_id', 'player', 'birth_year','age',\n",
    "       'experience', 'lg', 'tm', 'g', 'gs', 'mp_per_game'"
   ]
  },
  {
   "cell_type": "code",
   "execution_count": 11,
   "metadata": {},
   "outputs": [
    {
     "data": {
      "text/plain": [
       "(25064, 16)"
      ]
     },
     "execution_count": 11,
     "metadata": {},
     "output_type": "execute_result"
    }
   ],
   "source": [
    "X_train.shape"
   ]
  },
  {
   "cell_type": "code",
   "execution_count": 24,
   "metadata": {},
   "outputs": [
    {
     "name": "stdout",
     "output_type": "stream",
     "text": [
      "Epoch 1/50\n",
      "784/784 [==============================] - 3s 2ms/step - loss: 1.0253 - accuracy: 0.5426 - val_loss: 0.9543 - val_accuracy: 0.5748\n",
      "Epoch 2/50\n",
      "784/784 [==============================] - 1s 2ms/step - loss: 0.9417 - accuracy: 0.5806 - val_loss: 0.9290 - val_accuracy: 0.5826\n",
      "Epoch 3/50\n",
      "784/784 [==============================] - 1s 2ms/step - loss: 0.9267 - accuracy: 0.5845 - val_loss: 0.9238 - val_accuracy: 0.5915\n",
      "Epoch 4/50\n",
      "784/784 [==============================] - 1s 2ms/step - loss: 0.9151 - accuracy: 0.5918 - val_loss: 0.9052 - val_accuracy: 0.5949\n",
      "Epoch 5/50\n",
      "784/784 [==============================] - 1s 2ms/step - loss: 0.9071 - accuracy: 0.5959 - val_loss: 0.9416 - val_accuracy: 0.5751\n",
      "Epoch 6/50\n",
      "784/784 [==============================] - 1s 2ms/step - loss: 0.9024 - accuracy: 0.5981 - val_loss: 0.8916 - val_accuracy: 0.6026\n",
      "Epoch 7/50\n",
      "784/784 [==============================] - 1s 2ms/step - loss: 0.8973 - accuracy: 0.6013 - val_loss: 0.9210 - val_accuracy: 0.5797\n",
      "Epoch 8/50\n",
      "784/784 [==============================] - 1s 2ms/step - loss: 0.8953 - accuracy: 0.6013 - val_loss: 0.8939 - val_accuracy: 0.6008\n",
      "Epoch 9/50\n",
      "784/784 [==============================] - 1s 2ms/step - loss: 0.8907 - accuracy: 0.6030 - val_loss: 0.8922 - val_accuracy: 0.5933\n",
      "Epoch 10/50\n",
      "784/784 [==============================] - 1s 2ms/step - loss: 0.8886 - accuracy: 0.6045 - val_loss: 0.8842 - val_accuracy: 0.5995\n",
      "Epoch 11/50\n",
      "784/784 [==============================] - 1s 2ms/step - loss: 0.8829 - accuracy: 0.6055 - val_loss: 0.8869 - val_accuracy: 0.6022\n",
      "Epoch 12/50\n",
      "784/784 [==============================] - 1s 2ms/step - loss: 0.8835 - accuracy: 0.6080 - val_loss: 0.8826 - val_accuracy: 0.6024\n",
      "Epoch 13/50\n",
      "784/784 [==============================] - 1s 2ms/step - loss: 0.8789 - accuracy: 0.6078 - val_loss: 0.8990 - val_accuracy: 0.6024\n",
      "Epoch 14/50\n",
      "784/784 [==============================] - 1s 2ms/step - loss: 0.8742 - accuracy: 0.6092 - val_loss: 0.8920 - val_accuracy: 0.5993\n",
      "Epoch 15/50\n",
      "784/784 [==============================] - 1s 2ms/step - loss: 0.8746 - accuracy: 0.6114 - val_loss: 0.9054 - val_accuracy: 0.5850\n",
      "Epoch 16/50\n",
      "784/784 [==============================] - 1s 2ms/step - loss: 0.8694 - accuracy: 0.6159 - val_loss: 0.8761 - val_accuracy: 0.6071\n",
      "Epoch 17/50\n",
      "784/784 [==============================] - 1s 2ms/step - loss: 0.8680 - accuracy: 0.6160 - val_loss: 0.8946 - val_accuracy: 0.5944\n",
      "Epoch 18/50\n",
      "784/784 [==============================] - 1s 2ms/step - loss: 0.8647 - accuracy: 0.6167 - val_loss: 0.8777 - val_accuracy: 0.6160\n",
      "Epoch 19/50\n",
      "784/784 [==============================] - 1s 2ms/step - loss: 0.8640 - accuracy: 0.6170 - val_loss: 0.8780 - val_accuracy: 0.6039\n",
      "Epoch 20/50\n",
      "784/784 [==============================] - 1s 2ms/step - loss: 0.8597 - accuracy: 0.6165 - val_loss: 0.8746 - val_accuracy: 0.6091\n",
      "Epoch 21/50\n",
      "784/784 [==============================] - 1s 2ms/step - loss: 0.8601 - accuracy: 0.6159 - val_loss: 0.8891 - val_accuracy: 0.6006\n",
      "Epoch 22/50\n",
      "784/784 [==============================] - 1s 2ms/step - loss: 0.8590 - accuracy: 0.6151 - val_loss: 0.8759 - val_accuracy: 0.6177\n",
      "Epoch 23/50\n",
      "784/784 [==============================] - 1s 2ms/step - loss: 0.8554 - accuracy: 0.6194 - val_loss: 0.8782 - val_accuracy: 0.6011\n",
      "Epoch 24/50\n",
      "784/784 [==============================] - 1s 2ms/step - loss: 0.8515 - accuracy: 0.6220 - val_loss: 0.8779 - val_accuracy: 0.6080\n",
      "Epoch 25/50\n",
      "784/784 [==============================] - 1s 2ms/step - loss: 0.8492 - accuracy: 0.6226 - val_loss: 0.8770 - val_accuracy: 0.6098\n",
      "Epoch 26/50\n",
      "784/784 [==============================] - 1s 2ms/step - loss: 0.8464 - accuracy: 0.6225 - val_loss: 0.8768 - val_accuracy: 0.6088\n",
      "Epoch 27/50\n",
      "784/784 [==============================] - 1s 2ms/step - loss: 0.8451 - accuracy: 0.6212 - val_loss: 0.8786 - val_accuracy: 0.6104\n",
      "Epoch 28/50\n",
      "784/784 [==============================] - 1s 2ms/step - loss: 0.8436 - accuracy: 0.6261 - val_loss: 0.8769 - val_accuracy: 0.6086\n",
      "Epoch 29/50\n",
      "784/784 [==============================] - 1s 2ms/step - loss: 0.8408 - accuracy: 0.6249 - val_loss: 0.8819 - val_accuracy: 0.6149\n",
      "Epoch 30/50\n",
      "784/784 [==============================] - 1s 2ms/step - loss: 0.8377 - accuracy: 0.6289 - val_loss: 0.8850 - val_accuracy: 0.6024\n",
      "Epoch 31/50\n",
      "784/784 [==============================] - 1s 2ms/step - loss: 0.8357 - accuracy: 0.6266 - val_loss: 0.8753 - val_accuracy: 0.6115\n",
      "Epoch 32/50\n",
      "784/784 [==============================] - 1s 2ms/step - loss: 0.8316 - accuracy: 0.6304 - val_loss: 0.8760 - val_accuracy: 0.6106\n",
      "Epoch 33/50\n",
      "784/784 [==============================] - 1s 2ms/step - loss: 0.8320 - accuracy: 0.6299 - val_loss: 0.8818 - val_accuracy: 0.6115\n",
      "Epoch 34/50\n",
      "784/784 [==============================] - 1s 2ms/step - loss: 0.8275 - accuracy: 0.6294 - val_loss: 0.8771 - val_accuracy: 0.6180\n",
      "Epoch 35/50\n",
      "784/784 [==============================] - 1s 2ms/step - loss: 0.8235 - accuracy: 0.6357 - val_loss: 0.8774 - val_accuracy: 0.6091\n",
      "Epoch 36/50\n",
      "784/784 [==============================] - 1s 2ms/step - loss: 0.8219 - accuracy: 0.6329 - val_loss: 0.8893 - val_accuracy: 0.6071\n",
      "Epoch 37/50\n",
      "784/784 [==============================] - 1s 2ms/step - loss: 0.8216 - accuracy: 0.6318 - val_loss: 0.8844 - val_accuracy: 0.6118\n",
      "Epoch 38/50\n",
      "784/784 [==============================] - 2s 2ms/step - loss: 0.8160 - accuracy: 0.6339 - val_loss: 0.8737 - val_accuracy: 0.6093\n",
      "Epoch 39/50\n",
      "784/784 [==============================] - 1s 2ms/step - loss: 0.8116 - accuracy: 0.6397 - val_loss: 0.8877 - val_accuracy: 0.6118\n",
      "Epoch 40/50\n",
      "784/784 [==============================] - 1s 2ms/step - loss: 0.8092 - accuracy: 0.6401 - val_loss: 0.8783 - val_accuracy: 0.6115\n",
      "Epoch 41/50\n",
      "784/784 [==============================] - 1s 2ms/step - loss: 0.8084 - accuracy: 0.6388 - val_loss: 0.8858 - val_accuracy: 0.6133\n",
      "Epoch 42/50\n",
      "784/784 [==============================] - 1s 2ms/step - loss: 0.8050 - accuracy: 0.6424 - val_loss: 0.9012 - val_accuracy: 0.6022\n",
      "Epoch 43/50\n",
      "784/784 [==============================] - 1s 2ms/step - loss: 0.8027 - accuracy: 0.6409 - val_loss: 0.8857 - val_accuracy: 0.6071\n",
      "Epoch 44/50\n",
      "784/784 [==============================] - 1s 2ms/step - loss: 0.7976 - accuracy: 0.6462 - val_loss: 0.9025 - val_accuracy: 0.6122\n",
      "Epoch 45/50\n",
      "784/784 [==============================] - 1s 2ms/step - loss: 0.7972 - accuracy: 0.6453 - val_loss: 0.8887 - val_accuracy: 0.6144\n",
      "Epoch 46/50\n",
      "784/784 [==============================] - 1s 2ms/step - loss: 0.7914 - accuracy: 0.6481 - val_loss: 0.8852 - val_accuracy: 0.6073\n",
      "Epoch 47/50\n",
      "784/784 [==============================] - 1s 2ms/step - loss: 0.7901 - accuracy: 0.6487 - val_loss: 0.9159 - val_accuracy: 0.6022\n",
      "Epoch 48/50\n",
      "784/784 [==============================] - 1s 2ms/step - loss: 0.7860 - accuracy: 0.6518 - val_loss: 0.8904 - val_accuracy: 0.6066\n",
      "Epoch 49/50\n",
      "784/784 [==============================] - 1s 2ms/step - loss: 0.7826 - accuracy: 0.6528 - val_loss: 0.8987 - val_accuracy: 0.6124\n",
      "Epoch 50/50\n",
      "784/784 [==============================] - 1s 2ms/step - loss: 0.7779 - accuracy: 0.6578 - val_loss: 0.8943 - val_accuracy: 0.6048\n",
      "Training accuracy: [0.5425710082054138, 0.5806335806846619, 0.5845435857772827, 0.5918448567390442, 0.5959144830703735, 0.5981088280677795, 0.601260781288147, 0.6013405919075012, 0.602976381778717, 0.6044924855232239, 0.6054500341415405, 0.6079636216163635, 0.607804000377655, 0.6091605424880981, 0.6113948225975037, 0.615943193435669, 0.6160230040550232, 0.6167012453079224, 0.6169805526733398, 0.6165017485618591, 0.615943193435669, 0.6150654554367065, 0.6193743944168091, 0.6220076680183411, 0.6226460337638855, 0.6225263476371765, 0.6211698055267334, 0.6261171698570251, 0.6249201893806458, 0.6288700699806213, 0.6265959143638611, 0.630386233329773, 0.6299074292182922, 0.6293887495994568, 0.6356527209281921, 0.6328997611999512, 0.6317826509475708, 0.6338573098182678, 0.639682412147522, 0.6400814056396484, 0.6388445496559143, 0.6423555612564087, 0.6408793330192566, 0.6462256908416748, 0.6453080177307129, 0.6480609774589539, 0.6486993432044983, 0.6518113613128662, 0.6528487205505371, 0.6577960252761841]\n",
      "Training loss: [1.0253432989120483, 0.9417043924331665, 0.9267209768295288, 0.9150730967521667, 0.9070940017700195, 0.9023607969284058, 0.8973389863967896, 0.895287811756134, 0.8906853795051575, 0.8886131048202515, 0.8829232454299927, 0.8835217952728271, 0.8788761496543884, 0.8742138147354126, 0.8745505809783936, 0.8694213032722473, 0.8680180311203003, 0.8646969795227051, 0.8639936447143555, 0.8597244024276733, 0.8601436018943787, 0.8590145111083984, 0.8553932309150696, 0.851494550704956, 0.8492430448532104, 0.8463982343673706, 0.8451324701309204, 0.8436098098754883, 0.8408382534980774, 0.8377318978309631, 0.8357376456260681, 0.831588625907898, 0.8319598436355591, 0.827456533908844, 0.8235229253768921, 0.8218597173690796, 0.8216383457183838, 0.8160205483436584, 0.8116257786750793, 0.8091821074485779, 0.8083667755126953, 0.8049963116645813, 0.8026672601699829, 0.7976315021514893, 0.7972183227539062, 0.7914347648620605, 0.7900691628456116, 0.7859517931938171, 0.7826489210128784, 0.7778622508049011]\n",
      "Validation accuracy: [0.574777364730835, 0.5825912952423096, 0.5914955735206604, 0.5949482321739197, 0.5751408338546753, 0.6025804281234741, 0.579683780670166, 0.600763201713562, 0.5933127403259277, 0.5994911789894104, 0.6022169589996338, 0.602398693561554, 0.602398693561554, 0.5993094444274902, 0.5849536657333374, 0.6071233749389648, 0.5944030284881592, 0.6160275936126709, 0.6038524508476257, 0.6091222763061523, 0.6005815267562866, 0.6176630854606628, 0.6011266708374023, 0.6080319881439209, 0.6098491549491882, 0.6087588667869568, 0.6103943586349487, 0.6085771322250366, 0.6149373054504395, 0.602398693561554, 0.6114846467971802, 0.6105760335922241, 0.6114846467971802, 0.6180265545845032, 0.6091222763061523, 0.6071233749389648, 0.6118480563163757, 0.6093040108680725, 0.6118480563163757, 0.6114846467971802, 0.6133018136024475, 0.6022169589996338, 0.6071233749389648, 0.6122115254402161, 0.6143921613693237, 0.607305109500885, 0.6022169589996338, 0.6065782308578491, 0.6123932600021362, 0.6047610640525818]\n",
      "Validation loss: [0.9543005228042603, 0.9290327429771423, 0.923751711845398, 0.9051579833030701, 0.9416499733924866, 0.8916309475898743, 0.9210068583488464, 0.8938611745834351, 0.892157256603241, 0.884227454662323, 0.8868556618690491, 0.8826276063919067, 0.8990178108215332, 0.8920494914054871, 0.9054058194160461, 0.8761034607887268, 0.8945696949958801, 0.8777459263801575, 0.8780338764190674, 0.8745801448822021, 0.8890933394432068, 0.8758707046508789, 0.8782291412353516, 0.8778796195983887, 0.8769698739051819, 0.876804769039154, 0.8785808682441711, 0.8769375681877136, 0.8819142580032349, 0.8850362300872803, 0.875283420085907, 0.8760201334953308, 0.8818275332450867, 0.8770513534545898, 0.8773949146270752, 0.8893070220947266, 0.8844382166862488, 0.873744010925293, 0.887718677520752, 0.878305196762085, 0.8857846260070801, 0.9012156128883362, 0.8857085704803467, 0.9025408029556274, 0.8886783719062805, 0.8851827383041382, 0.9158708453178406, 0.8904455900192261, 0.8986608982086182, 0.8943082094192505]\n"
     ]
    }
   ],
   "source": [
    "# Sample tf/keras model\n",
    "from tensorflow.keras.models import Sequential\n",
    "from tensorflow.keras.layers import InputLayer, Dense, Dropout\n",
    "from tensorflow.keras.optimizers import Adam\n",
    "# from tensorflow.keras.callbacks import ReduceLROnPlateau, EarlyStopping\n",
    "\n",
    "# Could also add dropout 0.1 layers in between\n",
    "model = Sequential()\n",
    "model.add(InputLayer(input_shape=(X_train.shape[1],)))\n",
    "model.add(Dense(50, activation=\"relu\"))\n",
    "model.add(Dense(100, activation=\"relu\"))\n",
    "model.add(Dense(100, activation=\"relu\"))\n",
    "model.add(Dense(50, activation=\"relu\"))\n",
    "model.add(Dense(5, activation=\"softmax\"))\n",
    "\n",
    "model.compile(optimizer=Adam(learning_rate=0.001), loss='categorical_crossentropy', metrics=['accuracy'])\n",
    "# Potentially add for preventing overfit\n",
    "# reduce_lr = ReduceLROnPlateau(monitor='val_loss', factor=0.2, patience=1, min_lr=0.0001)\n",
    "# early_stop = EarlyStopping(monitor='val_loss', min_delta=0, patience=2, verbose=0, mode='auto')\n",
    "\n",
    "history = model.fit(X_train, y_train, epochs=50, validation_data=(X_test, y_test)) #callbacks=[reduce_lr, early_stop]\n",
    "\n",
    "print(\"Training accuracy:\", history.history['accuracy'])\n",
    "print(\"Training loss:\", history.history['loss'])\n",
    "print(\"Validation accuracy:\", history.history['val_accuracy'])\n",
    "print(\"Validation loss:\", history.history['val_loss'])"
   ]
  }
 ],
 "metadata": {
  "kernelspec": {
   "display_name": "Python 3",
   "language": "python",
   "name": "python3"
  },
  "language_info": {
   "codemirror_mode": {
    "name": "ipython",
    "version": 3
   },
   "file_extension": ".py",
   "mimetype": "text/x-python",
   "name": "python",
   "nbconvert_exporter": "python",
   "pygments_lexer": "ipython3",
   "version": "3.11.3"
  }
 },
 "nbformat": 4,
 "nbformat_minor": 2
}
