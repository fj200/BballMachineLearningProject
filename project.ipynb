{
 "cells": [
  {
   "cell_type": "markdown",
   "metadata": {},
   "source": [
    "# PROJECT EECS 4404"
   ]
  },
  {
   "cell_type": "markdown",
   "metadata": {},
   "source": [
    "Preprocessing \n",
    "\n",
    "**Feature selection**\n",
    "\n",
    "**Feature extraction**"
   ]
  },
  {
   "cell_type": "code",
   "execution_count": 1,
   "metadata": {},
   "outputs": [],
   "source": [
    "# %pip install xgboost\n",
    "# %pip install lightgbm\n",
    "# %pip install imbalanced-learn"
   ]
  },
  {
   "cell_type": "code",
   "execution_count": 18,
   "metadata": {},
   "outputs": [],
   "source": [
    "\n",
    "# Data Manipulation\n",
    "import numpy as np \n",
    "import pandas as pd\n",
    "\n",
    "# Data Visualization\n",
    "import matplotlib.pyplot as plt\n",
    "\n",
    "# Machine Learning\n",
    "from   sklearn.preprocessing import OneHotEncoder, MinMaxScaler\n",
    "from   sklearn.model_selection import train_test_split, GridSearchCV\n",
    "from   sklearn.metrics import confusion_matrix , classification_report, accuracy_score, roc_auc_score, RocCurveDisplay\n",
    "from   sklearn.linear_model import LogisticRegression\n",
    "from   sklearn.tree import DecisionTreeClassifier\n",
    "from   sklearn.ensemble import RandomForestClassifier, ExtraTreesClassifier\n",
    "from   sklearn.neighbors import KNeighborsClassifier\n",
    "from   xgboost import XGBClassifier\n",
    "from   lightgbm import LGBMClassifier\n",
    "from   imblearn.over_sampling import RandomOverSampler\n",
    "from   sklearn.feature_selection import SelectKBest, f_classif, RFECV\n",
    "from   sklearn.neural_network import MLPClassifier\n",
    "\n",
    "# Keras\n",
    "# from keras.models import Sequential\n",
    "# from keras.layers import Dense\n",
    "# from keras.optimizers import SGD, Adam, Adadelta, RMSprop\n",
    "# import keras.backend as K\n",
    "\n",
    "input_file_name = \"data/Player Per Game.csv\"\n",
    "input_target_class = 'pos'\n",
    "nba_players = label = features = X = Y = None\n",
    "encoder = OneHotEncoder()\n",
    "\n",
    "\n",
    "def visualizeData(nba_players):\n",
    "    ### no null values\n",
    "    nba_players.info()  \n",
    "    ## metrics\n",
    "    print(nba_players.groupby(input_target_class).mean())\n",
    "    # count of the values to make sure it was relatively balanced\n",
    "    print(nba_players[input_target_class].value_counts())\n",
    "\n",
    "def dropColumns(players, features):\n",
    "    ## drop some irrevelant features\n",
    "    players.drop(features, axis=1, inplace=True)\n",
    " \n"
   ]
  },
  {
   "cell_type": "code",
   "execution_count": 25,
   "metadata": {},
   "outputs": [
    {
     "data": {
      "text/plain": [
       "(25064, 22)"
      ]
     },
     "execution_count": 25,
     "metadata": {},
     "output_type": "execute_result"
    }
   ],
   "source": [
    "nba_players = pd.read_csv(input_file_name).replace({\"C-SF\": \"C\", \"C-F\": \"C\", \"C-PF\": \"C\", \"PG-SG\": \"PG\",\"PG-SF\":\"PG\",  \"PF-SF\": \"PF\", \"PF-C\": \"PF\", \"SF-SG\": \"SF\", \"SF-PG\": \"SF\", \"PF-C\": \"PF\", \"SG-SF\": \"SG\", \"SG-PG\": \"SG\", \"SG-PF\": \"SG\", \"SF-C\": \"SF\", \"SG-SF\": \"SG\", \"SG-PG-SF\": \"SG\", \"SF-PF\": \"SF\",})\n",
    "nba_players.drop_duplicates(inplace=True)\n",
    "nba_players = nba_players[nba_players['pos'].isin([\"SG\", \"PF\", \"C\", \"SF\", \"PG\"])]\n",
    "dropColumns(nba_players, {'seas_id', 'season', 'player_id', 'player', 'birth_year','age',\n",
    "       'experience', 'lg', 'tm', 'g', 'gs', 'mp_per_game'})\n",
    "features = list(nba_players.columns.delete(0))\n",
    "\n",
    "for i in nba_players.columns[nba_players.isnull().any(axis=0)]:     #---Applying Only on variables with NaN values\n",
    "   nba_players[i].fillna(nba_players[i].mean(),inplace=True)\n",
    "\n",
    "\n",
    "x = nba_players[features].values\n",
    "y = nba_players[input_target_class].values\n",
    "y = encoder.fit_transform(np.reshape(y, (-1, 1))).toarray()\n",
    "X_train, X_test, y_train, y_test = train_test_split(x, y, test_size=0.18, random_state=42)\n",
    "min_max_scaler = MinMaxScaler().fit(X_train)  \n",
    "X_train, X_test = min_max_scaler.transform(X_train), min_max_scaler.transform(X_test)\n",
    "\n",
    "X_train.shape\n"
   ]
  },
  {
   "cell_type": "code",
   "execution_count": 26,
   "metadata": {},
   "outputs": [
    {
     "name": "stdout",
     "output_type": "stream",
     "text": [
      "<class 'pandas.core.frame.DataFrame'>\n",
      "Index: 30567 entries, 0 to 31534\n",
      "Data columns (total 23 columns):\n",
      " #   Column         Non-Null Count  Dtype  \n",
      "---  ------         --------------  -----  \n",
      " 0   pos            30567 non-null  object \n",
      " 1   fg_per_game    30567 non-null  float64\n",
      " 2   fga_per_game   30567 non-null  float64\n",
      " 3   fg_percent     30567 non-null  float64\n",
      " 4   x3p_per_game   30567 non-null  float64\n",
      " 5   x3pa_per_game  30567 non-null  float64\n",
      " 6   x3p_percent    30567 non-null  float64\n",
      " 7   x2p_per_game   30567 non-null  float64\n",
      " 8   x2pa_per_game  30567 non-null  float64\n",
      " 9   x2p_percent    30567 non-null  float64\n",
      " 10  e_fg_percent   30567 non-null  float64\n",
      " 11  ft_per_game    30567 non-null  float64\n",
      " 12  fta_per_game   30567 non-null  float64\n",
      " 13  ft_percent     30567 non-null  float64\n",
      " 14  orb_per_game   30567 non-null  float64\n",
      " 15  drb_per_game   30567 non-null  float64\n",
      " 16  trb_per_game   30567 non-null  float64\n",
      " 17  ast_per_game   30567 non-null  float64\n",
      " 18  stl_per_game   30567 non-null  float64\n",
      " 19  blk_per_game   30567 non-null  float64\n",
      " 20  tov_per_game   30567 non-null  float64\n",
      " 21  pf_per_game    30567 non-null  float64\n",
      " 22  pts_per_game   30567 non-null  float64\n",
      "dtypes: float64(22), object(1)\n",
      "memory usage: 5.6+ MB\n",
      "     fg_per_game  fga_per_game  fg_percent  x3p_per_game  x3pa_per_game  \\\n",
      "pos                                                                       \n",
      "C       2.923135      6.109922    0.466696      0.158731       0.477291   \n",
      "PF      3.146323      6.852738    0.447991      0.320833       0.954840   \n",
      "PG      3.191206      7.472175    0.412276      0.604925       1.773504   \n",
      "SF      3.395543      7.653616    0.426897      0.537584       1.561153   \n",
      "SG      3.447625      7.995579    0.414016      0.681488       1.953813   \n",
      "\n",
      "     x3p_percent  x2p_per_game  x2pa_per_game  x2p_percent  e_fg_percent  ...  \\\n",
      "pos                                                                       ...   \n",
      "C       0.214833      2.851092       5.886282     0.474706      0.472200  ...   \n",
      "PF      0.234194      2.902069       6.122620     0.467458      0.466159  ...   \n",
      "PG      0.286185      2.658914       5.909859     0.437794      0.448294  ...   \n",
      "SF      0.274370      2.947175       6.353162     0.454245      0.458341  ...   \n",
      "SG      0.290808      2.849334       6.286205     0.442734      0.453178  ...   \n",
      "\n",
      "     ft_percent  orb_per_game  drb_per_game  trb_per_game  ast_per_game  \\\n",
      "pos                                                                       \n",
      "C      0.661561      1.571495      3.380282      5.412887      1.057771   \n",
      "PF     0.695075      1.426425      3.186789      4.971163      1.216492   \n",
      "PG     0.767784      0.532775      1.774219      2.254920      3.691189   \n",
      "SF     0.735083      1.007725      2.449734      3.628967      1.534342   \n",
      "SG     0.760739      0.670560      1.872885      2.477198      2.076956   \n",
      "\n",
      "     stl_per_game  blk_per_game  tov_per_game  pf_per_game  pts_per_game  \n",
      "pos                                                                       \n",
      "C        0.488471      0.766070      1.167088     2.311127      7.458781  \n",
      "PF       0.576649      0.494813      1.181158     2.185657      8.154123  \n",
      "PG       0.847866      0.174860      1.517180     1.788543      8.581003  \n",
      "SF       0.686111      0.340145      1.206385     1.951665      8.931147  \n",
      "SG       0.731047      0.238915      1.269901     1.784951      9.186863  \n",
      "\n",
      "[5 rows x 22 columns]\n",
      "pos\n",
      "SG    6379\n",
      "PF    6282\n",
      "C     6138\n",
      "SF    5946\n",
      "PG    5822\n",
      "Name: count, dtype: int64\n"
     ]
    },
    {
     "data": {
      "text/plain": [
       "fg_per_game      1.015685\n",
       "fga_per_game     0.935758\n",
       "fg_percent      -0.449294\n",
       "x3p_per_game     2.010991\n",
       "x3pa_per_game    1.785295\n",
       "x3p_percent      0.484556\n",
       "x2p_per_game     1.190572\n",
       "x2pa_per_game    1.153084\n",
       "x2p_percent     -0.341590\n",
       "e_fg_percent    -0.437402\n",
       "ft_per_game      1.629558\n",
       "fta_per_game     1.570396\n",
       "ft_percent      -1.436705\n",
       "orb_per_game     1.538010\n",
       "drb_per_game     1.477636\n",
       "trb_per_game     1.633362\n",
       "ast_per_game     1.846789\n",
       "stl_per_game     1.248359\n",
       "blk_per_game     3.028837\n",
       "tov_per_game     1.045606\n",
       "pf_per_game      0.091628\n",
       "pts_per_game     1.056928\n",
       "dtype: float64"
      ]
     },
     "execution_count": 26,
     "metadata": {},
     "output_type": "execute_result"
    }
   ],
   "source": [
    "visualizeData(nba_players)\n",
    "dropColumns(nba_players, input_target_class) \n",
    "nba_players.skew()"
   ]
  },
  {
   "cell_type": "code",
   "execution_count": 27,
   "metadata": {},
   "outputs": [
    {
     "name": "stderr",
     "output_type": "stream",
     "text": [
      "C:\\Users\\User\\AppData\\Local\\Packages\\PythonSoftwareFoundation.Python.3.10_qbz5n2kfra8p0\\LocalCache\\local-packages\\Python310\\site-packages\\sklearn\\utils\\validation.py:1183: DataConversionWarning: A column-vector y was passed when a 1d array was expected. Please change the shape of y to (n_samples, ), for example using ravel().\n",
      "  y = column_or_1d(y, warn=True)\n"
     ]
    },
    {
     "name": "stdout",
     "output_type": "stream",
     "text": [
      "            Specs        Score\n",
      "16   ast_per_game  2336.868907\n",
      "13   orb_per_game  1914.252827\n",
      "18   blk_per_game  1673.675158\n",
      "15   trb_per_game  1605.388320\n",
      "14   drb_per_game  1035.885538\n",
      "4   x3pa_per_game   880.559484\n",
      "3    x3p_per_game   747.019180\n",
      "12     ft_percent   560.848951\n",
      "17   stl_per_game   519.001360\n",
      "20    pf_per_game   359.370089\n"
     ]
    },
    {
     "data": {
      "image/png": "[encoded data removed]",
      "text/plain": [
       "<Figure size 640x480 with 1 Axes>"
      ]
     },
     "metadata": {},
     "output_type": "display_data"
    }
   ],
   "source": [
    "topFeatures = 10\n",
    "selector = SelectKBest(score_func=f_classif, k=topFeatures)  \n",
    "fit = selector.fit(X_train, encoder.inverse_transform(y_train))\n",
    "\n",
    "dfscores = pd.DataFrame(fit.scores_)\n",
    "dfcolumns = pd.DataFrame(features)\n",
    "#concat two dataframes for better visualization \n",
    "featureScores = pd.concat([dfcolumns,dfscores],axis=1)\n",
    "featureScores.columns = ['Specs','Score']  #naming the dataframe columns\n",
    "print(featureScores.nlargest(topFeatures,'Score'))\n",
    "\n",
    "model = ExtraTreesClassifier()\n",
    "model.fit(X_train, y_train)\n",
    "#plot graph of feature importances for better visualization\n",
    "feat_importances = pd.Series(model.feature_importances_, index=features)\n",
    "feat_importances.nlargest(topFeatures).plot(kind='barh')\n",
    "plt.show()\n",
    "\n",
    "rfc = RandomForestClassifier()\n",
    "min_features_to_select = 1  # Minimum number of features to consider\n",
    "\n",
    "rfecv = RFECV(\n",
    "    estimator=rfc,\n",
    "    step=1,\n",
    "    scoring=\"accuracy\",\n",
    "    min_features_to_select=min_features_to_select,\n",
    "    n_jobs=2,\n",
    ")\n",
    "rfecv.fit(X_train, y_train)\n",
    "\n",
    "print(f\"Optimal number of features: {rfecv.n_features_}\")"
   ]
  },
  {
   "cell_type": "code",
   "execution_count": 84,
   "metadata": {},
   "outputs": [
    {
     "name": "stdout",
     "output_type": "stream",
     "text": [
      "[False False  True False  True  True False  True False False False False\n",
      " False False False False  True  True  True  True False  True False False\n",
      "  True]\n",
      "Index(['FGA', 'FG%', '3P', '3PA', 'FT%', 'ORB', 'DRB', 'TRB', 'AST', 'BLK',\n",
      "       'PTS'],\n",
      "      dtype='object')\n"
     ]
    }
   ],
   "source": [
    "mask = rfecv.get_support()\n",
    "# mask[2] = False\n",
    "# mask[6] = mask[15] = True\n",
    "best_features = nba_players.columns[mask]\n",
    "print(best_features)  # choose using rfev selectKbest and featureInportance form classifiers\n",
    "X_old = X_train\n",
    "x_test = X_test\n",
    "X_train = X_train[:,mask]\n",
    "X_test  = X_test[:,mask]\n"
   ]
  },
  {
   "cell_type": "code",
   "execution_count": 109,
   "metadata": {},
   "outputs": [
    {
     "name": "stdout",
     "output_type": "stream",
     "text": [
      "The accuracy of prediction is:  0.5355784899511136\n",
      "The number of accurate predictions is:  986\n",
      "The accuracy of prediction is:  0.46713742531233027\n",
      "The number of accurate predictions is:  860\n",
      "The accuracy of prediction is:  0.4443237370994025\n",
      "The number of accurate predictions is:  818\n",
      "The accuracy of prediction is:  0.4443237370994025\n",
      "The number of accurate predictions is:  818\n"
     ]
    }
   ],
   "source": [
    "model = DecisionTreeClassifier()\n",
    "model = model.fit(X_train, y_train)\n",
    "predictions = model.predict(X_test)\n",
    "accuracy = accuracy_score(y_test, predictions)\n",
    "print(\"The accuracy of prediction is: \", accuracy)\n",
    "\n",
    "# find number of accurate predictions\n",
    "accurate_predictions = accuracy_score(y_test, predictions, normalize=False)\n",
    "print(\"The number of accurate predictions is: \", accurate_predictions)\n",
    "\n",
    "model = RandomForestClassifier()\n",
    "model = model.fit(X_train, y_train)\n",
    "predictions = model.predict(X_test)\n",
    "accuracy = accuracy_score(y_test, predictions)\n",
    "print(\"The accuracy of prediction is: \", accuracy)\n",
    "\n",
    "# find number of accurate predictions\n",
    "accurate_predictions = accuracy_score(y_test, predictions, normalize=False)\n",
    "print(\"The number of accurate predictions is: \", accurate_predictions)\n",
    "\n",
    "model = ExtraTreesClassifier()\n",
    "model = model.fit(X_train, y_train)\n",
    "predictions = model.predict(X_test)\n",
    "accuracy = accuracy_score(y_test, predictions)\n",
    "print(\"The accuracy of prediction is: \", accuracy)\n",
    "\n",
    "# find number of accurate predictions\n",
    "accurate_predictions = accuracy_score(y_test, predictions, normalize=False)\n",
    "print(\"The number of accurate predictions is: \", accurate_predictions)\n",
    "\n",
    "model  = KNeighborsClassifier()\n",
    "model = model.fit(X_train, y_train)\n",
    "accuracy = accuracy_score(y_test, predictions)\n",
    "print(\"The accuracy of prediction is: \", accuracy)\n",
    "\n",
    "# find number of accurate predictions\n",
    "accurate_predictions = accuracy_score(y_test, predictions, normalize=False)\n",
    "print(\"The number of accurate predictions is: \", accurate_predictions)"
   ]
  },
  {
   "cell_type": "code",
   "execution_count": 119,
   "metadata": {},
   "outputs": [
    {
     "name": "stdout",
     "output_type": "stream",
     "text": [
      "The accuracy of prediction is:  0.35376908396946566\n",
      "The number of accurate predictions is:  2966\n"
     ]
    }
   ],
   "source": [
    "#https://towardsdatascience.com/17-rules-of-thumb-for-building-a-neural-network-93356f9930af\n",
    "mlp = MLPClassifier(hidden_layer_sizes=(11,5, 2), activation='relu', solver='adam', max_iter=30000)\n",
    "mlp.fit(X_train,y_train)\n",
    "\n",
    "predictions = mlp.predict(X_train)\n",
    "# predictions = mlp.predict(X_test)\n",
    "accuracy = accuracy_score(y_train, predictions)\n",
    "print(\"The accuracy of prediction is: \", accuracy)\n",
    "\n",
    "# find number of accurate predictions\n",
    "accurate_predictions = accuracy_score(y_train, predictions, normalize=False)\n",
    "print(\"The number of accurate predictions is: \", accurate_predictions)"
   ]
  },
  {
   "cell_type": "code",
   "execution_count": 3,
   "metadata": {},
   "outputs": [
    {
     "name": "stdout",
     "output_type": "stream",
     "text": [
      "       seas_id  season  player_id          player  birth_year  pos   age  \\\n",
      "0        31136    2024       5025      A.J. Green         NaN   SG  24.0   \n",
      "1        31137    2024       5027      AJ Griffin         NaN   SF  20.0   \n",
      "2        31138    2024       4219    Aaron Gordon         NaN   PF  28.0   \n",
      "3        31139    2024       4582   Aaron Holiday         NaN   PG  27.0   \n",
      "4        31140    2024       4805   Aaron Nesmith         NaN   SF  24.0   \n",
      "...        ...     ...        ...             ...         ...  ...   ...   \n",
      "31545      200    1947        157     Walt Miller         NaN    F  31.0   \n",
      "31546      201    1947        158   Warren Fenley         NaN    F  24.0   \n",
      "31547      202    1947        159   Wilbert Kautz         NaN  G-F  31.0   \n",
      "31548      203    1947        160  Woody Grimshaw         NaN    G  27.0   \n",
      "31549      204    1947        161     Wyndol Gray         NaN  G-F  24.0   \n",
      "\n",
      "       experience   lg   tm  ...  ft_percent  orb_per_game  drb_per_game  \\\n",
      "0               2  NBA  MIL  ...       1.000           0.0           0.5   \n",
      "1               2  NBA  ATL  ...         NaN           0.3           1.0   \n",
      "2              10  NBA  DEN  ...       0.250           1.8           3.0   \n",
      "3               6  NBA  HOU  ...         NaN           0.0           0.0   \n",
      "4               4  NBA  IND  ...       0.833           1.7           4.3   \n",
      "...           ...  ...  ...  ...         ...           ...           ...   \n",
      "31545           1  BAA  PIT  ...       0.500           NaN           NaN   \n",
      "31546           1  BAA  BOS  ...       0.511           NaN           NaN   \n",
      "31547           1  BAA  CHS  ...       0.534           NaN           NaN   \n",
      "31548           1  BAA  PRO  ...       0.477           NaN           NaN   \n",
      "31549           1  BAA  BOS  ...       0.581           NaN           NaN   \n",
      "\n",
      "       trb_per_game  ast_per_game  stl_per_game  blk_per_game  tov_per_game  \\\n",
      "0               0.5           1.0           0.0           0.0           0.0   \n",
      "1               1.3           0.5           0.3           0.0           0.5   \n",
      "2               4.8           3.0           1.5           1.3           1.3   \n",
      "3               0.0           0.0           0.0           0.0           0.0   \n",
      "4               6.0           1.3           0.0           1.0           0.3   \n",
      "...             ...           ...           ...           ...           ...   \n",
      "31545           NaN           0.5           NaN           NaN           NaN   \n",
      "31546           NaN           0.5           NaN           NaN           NaN   \n",
      "31547           NaN           0.7           NaN           NaN           NaN   \n",
      "31548           NaN           0.0           NaN           NaN           NaN   \n",
      "31549           NaN           0.9           NaN           NaN           NaN   \n",
      "\n",
      "       pf_per_game  pts_per_game  \n",
      "0              1.5           3.5  \n",
      "1              0.3           4.3  \n",
      "2              1.5          13.8  \n",
      "3              0.0           0.0  \n",
      "4              3.3          12.7  \n",
      "...            ...           ...  \n",
      "31545          1.3           1.9  \n",
      "31546          1.8           2.6  \n",
      "31547          2.3           5.1  \n",
      "31548          1.2           2.9  \n",
      "31549          1.9           6.4  \n",
      "\n",
      "[31550 rows x 35 columns]\n"
     ]
    }
   ],
   "source": [
    "\n",
    "# Import pandas and glob\n",
    "import pandas as pd\n",
    "import glob\n",
    "\n",
    "# Get a list of all the CSV files in a directory\n",
    "files = glob.glob(\"data/Player Per Game.csv\")\n",
    "\n",
    "# Initialize an empty dataframe to hold the combined data\n",
    "combined_df = pd.DataFrame()\n",
    "\n",
    "# Loop through the files and read each one into a dataframe\n",
    "for file in files:\n",
    "    df = pd.read_csv(file)\n",
    "    # Concatenate the dataframe to the combined dataframe\n",
    "    combined_df = pd.concat([combined_df, df], ignore_index=True)\n",
    "\n",
    "# Print the combined dataframe\n",
    "print(combined_df)"
   ]
  },
  {
   "cell_type": "code",
   "execution_count": 9,
   "metadata": {},
   "outputs": [
    {
     "data": {
      "text/plain": [
       "Index(['seas_id', 'season', 'player_id', 'player', 'birth_year', 'pos', 'age',\n",
       "       'experience', 'lg', 'tm', 'g', 'gs', 'mp_per_game', 'fg_per_game',\n",
       "       'fga_per_game', 'fg_percent', 'x3p_per_game', 'x3pa_per_game',\n",
       "       'x3p_percent', 'x2p_per_game', 'x2pa_per_game', 'x2p_percent',\n",
       "       'e_fg_percent', 'ft_per_game', 'fta_per_game', 'ft_percent',\n",
       "       'orb_per_game', 'drb_per_game', 'trb_per_game', 'ast_per_game',\n",
       "       'stl_per_game', 'blk_per_game', 'tov_per_game', 'pf_per_game',\n",
       "       'pts_per_game'],\n",
       "      dtype='object')"
      ]
     },
     "execution_count": 9,
     "metadata": {},
     "output_type": "execute_result"
    }
   ],
   "source": [
    "combined_df.columns"
   ]
  },
  {
   "cell_type": "markdown",
   "metadata": {},
   "source": [
    "'seas_id', 'season', 'player_id', 'player', 'birth_year','age',\n",
    "       'experience', 'lg', 'tm', 'g', 'gs', 'mp_per_game'"
   ]
  }
 ],
 "metadata": {
  "kernelspec": {
   "display_name": "Python 3",
   "language": "python",
   "name": "python3"
  },
  "language_info": {
   "codemirror_mode": {
    "name": "ipython",
    "version": 3
   },
   "file_extension": ".py",
   "mimetype": "text/x-python",
   "name": "python",
   "nbconvert_exporter": "python",
   "pygments_lexer": "ipython3",
   "version": "3.10.11"
  }
 },
 "nbformat": 4,
 "nbformat_minor": 2
}
