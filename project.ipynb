{
 "cells": [
  {
   "cell_type": "markdown",
   "metadata": {},
   "source": [
    "# PROJECT EECS 4404"
   ]
  },
  {
   "cell_type": "markdown",
   "metadata": {},
   "source": [
    "Preprocessing \n",
    "\n",
    "**Feature selection**\n",
    "\n",
    "**Feature extraction**"
   ]
  },
  {
   "cell_type": "code",
   "execution_count": 1,
   "metadata": {},
   "outputs": [],
   "source": [
    "# %pip install xgboost\n",
    "# %pip install lightgbm\n",
    "# %pip install imbalanced-learn"
   ]
  },
  {
   "cell_type": "code",
   "execution_count": 90,
   "metadata": {},
   "outputs": [],
   "source": [
    "\n",
    "# Data Manipulation\n",
    "import numpy as np \n",
    "import pandas as pd\n",
    "\n",
    "# Data Visualization\n",
    "import matplotlib.pyplot as plt\n",
    "\n",
    "# Machine Learning\n",
    "from   sklearn.preprocessing import OneHotEncoder, MinMaxScaler\n",
    "from   sklearn.model_selection import train_test_split, GridSearchCV\n",
    "from   sklearn.metrics import confusion_matrix , classification_report, accuracy_score, roc_auc_score, RocCurveDisplay\n",
    "from   sklearn.linear_model import LogisticRegression\n",
    "from   sklearn.tree import DecisionTreeClassifier\n",
    "from   sklearn.ensemble import RandomForestClassifier, ExtraTreesClassifier\n",
    "from   sklearn.neighbors import KNeighborsClassifier\n",
    "from   xgboost import XGBClassifier\n",
    "from   lightgbm import LGBMClassifier\n",
    "from   imblearn.over_sampling import RandomOverSampler\n",
    "from   sklearn.feature_selection import SelectKBest, f_classif, RFECV\n",
    "from   sklearn.neural_network import MLPClassifier\n",
    "\n",
    "# Keras\n",
    "from keras.models import Sequential\n",
    "from keras.layers import Dense\n",
    "from keras.optimizers import SGD, Adam, Adadelta, RMSprop\n",
    "import keras.backend as K\n",
    "\n",
    "input_file_name = 'datasets.csv'\n",
    "input_target_class = 'Pos'\n",
    "nba_players = label = features = X = Y = None\n",
    "encoder = OneHotEncoder()\n",
    "\n",
    "\n",
    "def visualizeData(nba_players):\n",
    "    ### no null values\n",
    "    nba_players.info()  \n",
    "    ## metrics\n",
    "    print(nba_players.groupby(input_target_class).mean())\n",
    "    # count of the values to make sure it was relatively balanced\n",
    "    print(nba_players[input_target_class].value_counts())\n",
    "\n",
    "def dropColumns(players, features):\n",
    "    ## drop some irrevelant features\n",
    "    players.drop(features, axis=1, inplace=True)\n",
    " \n"
   ]
  },
  {
   "cell_type": "code",
   "execution_count": 78,
   "metadata": {},
   "outputs": [
    {
     "data": {
      "text/plain": [
       "(8384, 25)"
      ]
     },
     "execution_count": 78,
     "metadata": {},
     "output_type": "execute_result"
    }
   ],
   "source": [
    "## dropped the double labels because very low count we can try to come up with a solution\n",
    "nba_players = pd.read_csv(input_file_name).replace({\"C-PF\": \"C\", \"PG-SG\": \"PG\", \"PF-SF\": \"PF\", \"PF-C\": \"PF\", \"SF-SG\": \"SF\", \"SF-PG\": \"SF\", \"PF-C\": \"PF\", \"SG-SF\": \"SG\", \"SG-PG\": \"SG\", \"SG-PF\": \"SG\", \"SF-C\": \"SF\", \"SG-SF\": \"SG\", \"SG-PG-SF\": \"SG\", \"SF-PF\": \"SF\"})\n",
    "nba_players.drop_duplicates(inplace=True)\n",
    "dropColumns(nba_players, {'Age','Player','Tm'})\n",
    "features = list(nba_players.columns.delete(0))\n",
    "\n",
    "for i in nba_players.columns[nba_players.isnull().any(axis=0)]:     #---Applying Only on variables with NaN values\n",
    "   nba_players[i].fillna(nba_players[i].mean(),inplace=True)\n",
    "\n",
    "\n",
    "x = nba_players[features].values\n",
    "y = nba_players[input_target_class].values\n",
    "y = encoder.fit_transform(np.reshape(y, (-1, 1))).toarray()\n",
    "X_train, X_test, y_train, y_test = train_test_split(x, y, test_size=0.18, random_state=42)\n",
    "min_max_scaler = MinMaxScaler().fit(X_train)  # why i picked MinMax https://stackoverflow.com/questions/51237635/difference-between-standard-scaler-and-minmaxscaler\n",
    "X_train, X_test = min_max_scaler.transform(X_train), min_max_scaler.transform(X_test)\n",
    "\n",
    "X_train.shape\n"
   ]
  },
  {
   "cell_type": "code",
   "execution_count": 79,
   "metadata": {},
   "outputs": [
    {
     "name": "stdout",
     "output_type": "stream",
     "text": [
      "<class 'pandas.core.frame.DataFrame'>\n",
      "Index: 10225 entries, 0 to 10929\n",
      "Data columns (total 26 columns):\n",
      " #   Column  Non-Null Count  Dtype  \n",
      "---  ------  --------------  -----  \n",
      " 0   Pos     10225 non-null  object \n",
      " 1   G       10225 non-null  int64  \n",
      " 2   GS      10225 non-null  int64  \n",
      " 3   MP      10225 non-null  float64\n",
      " 4   FG      10225 non-null  float64\n",
      " 5   FGA     10225 non-null  float64\n",
      " 6   FG%     10225 non-null  float64\n",
      " 7   3P      10225 non-null  float64\n",
      " 8   3PA     10225 non-null  float64\n",
      " 9   3P%     10225 non-null  float64\n",
      " 10  2P      10225 non-null  float64\n",
      " 11  2PA     10225 non-null  float64\n",
      " 12  2P%     10225 non-null  float64\n",
      " 13  eFG%    10225 non-null  float64\n",
      " 14  FT      10225 non-null  float64\n",
      " 15  FTA     10225 non-null  float64\n",
      " 16  FT%     10225 non-null  float64\n",
      " 17  ORB     10225 non-null  float64\n",
      " 18  DRB     10225 non-null  float64\n",
      " 19  TRB     10225 non-null  float64\n",
      " 20  AST     10225 non-null  float64\n",
      " 21  STL     10225 non-null  float64\n",
      " 22  BLK     10225 non-null  float64\n",
      " 23  TOV     10225 non-null  float64\n",
      " 24  PF      10225 non-null  float64\n",
      " 25  PTS     10225 non-null  float64\n",
      "dtypes: float64(23), int64(2), object(1)\n",
      "memory usage: 2.1+ MB\n",
      "             G         GS         MP        FG       FGA       FG%        3P  \\\n",
      "Pos                                                                            \n",
      "C    44.720603  22.749757  17.557191  2.581438  5.222012  0.475556  0.106997   \n",
      "PF   45.367431  20.498624  19.134358  2.872248  6.189358  0.450490  0.319266   \n",
      "PG   46.076587  21.644207  20.455405  2.916142  6.905041  0.405831  0.727581   \n",
      "SF   46.978191  23.153191  20.850851  3.163245  7.198191  0.423445  0.675106   \n",
      "SG   45.810665  21.751957  20.851370  3.198924  7.501517  0.410650  0.875440   \n",
      "\n",
      "          3PA       3P%        2P  ...       FT%       ORB       DRB  \\\n",
      "Pos                                ...                                 \n",
      "C    0.332313  0.215770  2.473518  ...  0.648971  1.546987  3.183673   \n",
      "PF   0.944404  0.245023  2.552890  ...  0.691408  1.375872  3.112706   \n",
      "PG   2.096752  0.313140  2.187882  ...  0.772216  0.415948  1.689675   \n",
      "SF   1.937926  0.299720  2.488298  ...  0.736383  0.894681  2.432394   \n",
      "SG   2.477935  0.318956  2.324119  ...  0.766258  0.566047  1.899217   \n",
      "\n",
      "          TRB       AST       STL       BLK       TOV        PF       PTS  \n",
      "Pos                                                                        \n",
      "C    4.728717  0.839067  0.423810  0.815306  1.026190  2.177357  6.591545  \n",
      "PF   4.488807  1.121972  0.543486  0.487156  1.081972  2.043807  7.509266  \n",
      "PG   2.102133  3.539942  0.808677  0.128454  1.451478  1.605962  8.008289  \n",
      "SF   3.326649  1.507766  0.686436  0.330798  1.128298  1.820479  8.557500  \n",
      "SG   2.463748  1.911057  0.718787  0.211791  1.170793  1.652935  8.832926  \n",
      "\n",
      "[5 rows x 25 columns]\n",
      "Pos\n",
      "PF    2180\n",
      "PG    2063\n",
      "C     2058\n",
      "SG    2044\n",
      "SF    1880\n",
      "Name: count, dtype: int64\n"
     ]
    },
    {
     "data": {
      "text/plain": [
       "G      -0.187648\n",
       "GS      1.026650\n",
       "MP      0.195282\n",
       "FG      1.019119\n",
       "FGA     0.985997\n",
       "FG%    -0.404328\n",
       "3P      1.532725\n",
       "3PA     1.388053\n",
       "3P%     0.266945\n",
       "2P      1.249476\n",
       "2PA     1.219232\n",
       "2P%    -0.474138\n",
       "eFG%   -0.771447\n",
       "FT      1.803771\n",
       "FTA     1.741160\n",
       "FT%    -1.400532\n",
       "ORB     1.442843\n",
       "DRB     1.327926\n",
       "TRB     1.329304\n",
       "AST     1.914372\n",
       "STL     1.063932\n",
       "BLK     2.631412\n",
       "TOV     1.015960\n",
       "PF      0.060863\n",
       "PTS     1.090517\n",
       "dtype: float64"
      ]
     },
     "execution_count": 79,
     "metadata": {},
     "output_type": "execute_result"
    }
   ],
   "source": [
    "visualizeData(nba_players)\n",
    "dropColumns(nba_players, 'Pos') \n",
    "nba_players.skew()"
   ]
  },
  {
   "cell_type": "code",
   "execution_count": 80,
   "metadata": {},
   "outputs": [
    {
     "name": "stderr",
     "output_type": "stream",
     "text": [
      "C:\\Users\\User\\AppData\\Local\\Packages\\PythonSoftwareFoundation.Python.3.10_qbz5n2kfra8p0\\LocalCache\\local-packages\\Python310\\site-packages\\sklearn\\utils\\validation.py:1183: DataConversionWarning: A column-vector y was passed when a 1d array was expected. Please change the shape of y to (n_samples, ), for example using ravel().\n",
      "  y = column_or_1d(y, warn=True)\n"
     ]
    },
    {
     "name": "stdout",
     "output_type": "stream",
     "text": [
      "   Specs       Score\n",
      "19   AST  821.921237\n",
      "16   ORB  814.245804\n",
      "21   BLK  715.318790\n",
      "7    3PA  505.496659\n",
      "18   TRB  453.666779\n",
      "6     3P  437.076299\n",
      "17   DRB  277.379792\n",
      "15   FT%  232.598028\n",
      "20   STL  204.317234\n",
      "8    3P%  164.869686\n"
     ]
    },
    {
     "data": {
      "image/png": "[encoded data removed]",
      "text/plain": [
       "<Figure size 640x480 with 1 Axes>"
      ]
     },
     "metadata": {},
     "output_type": "display_data"
    },
    {
     "name": "stdout",
     "output_type": "stream",
     "text": [
      "Optimal number of features: 10\n"
     ]
    }
   ],
   "source": [
    "topFeatures = 10\n",
    "selector = SelectKBest(score_func=f_classif, k=topFeatures)  \n",
    "fit = selector.fit(X_train, encoder.inverse_transform(y_train))\n",
    "\n",
    "dfscores = pd.DataFrame(fit.scores_)\n",
    "dfcolumns = pd.DataFrame(features)\n",
    "#concat two dataframes for better visualization \n",
    "featureScores = pd.concat([dfcolumns,dfscores],axis=1)\n",
    "featureScores.columns = ['Specs','Score']  #naming the dataframe columns\n",
    "print(featureScores.nlargest(topFeatures,'Score'))\n",
    "\n",
    "model = ExtraTreesClassifier()\n",
    "model.fit(X_train, y_train)\n",
    "#plot graph of feature importances for better visualization\n",
    "feat_importances = pd.Series(model.feature_importances_, index=features)\n",
    "feat_importances.nlargest(topFeatures).plot(kind='barh')\n",
    "plt.show()\n",
    "\n",
    "rfc = RandomForestClassifier()\n",
    "min_features_to_select = 1  # Minimum number of features to consider\n",
    "\n",
    "rfecv = RFECV(\n",
    "    estimator=rfc,\n",
    "    step=1,\n",
    "    scoring=\"accuracy\",\n",
    "    min_features_to_select=min_features_to_select,\n",
    "    n_jobs=2,\n",
    ")\n",
    "rfecv.fit(X_train, y_train)\n",
    "\n",
    "print(f\"Optimal number of features: {rfecv.n_features_}\")"
   ]
  },
  {
   "cell_type": "code",
   "execution_count": 84,
   "metadata": {},
   "outputs": [
    {
     "name": "stdout",
     "output_type": "stream",
     "text": [
      "[False False  True False  True  True False  True False False False False\n",
      " False False False False  True  True  True  True False  True False False\n",
      "  True]\n",
      "Index(['FGA', 'FG%', '3P', '3PA', 'FT%', 'ORB', 'DRB', 'TRB', 'AST', 'BLK',\n",
      "       'PTS'],\n",
      "      dtype='object')\n"
     ]
    }
   ],
   "source": [
    "mask = rfecv.get_support()\n",
    "mask[2] = False\n",
    "mask[6] = mask[15] = True\n",
    "best_features = nba_players.columns[mask]\n",
    "print(best_features)  # choose using rfev selectKbest and featureInportance form classifiers\n",
    "X_old = X_train\n",
    "x_test = X_test\n",
    "X_train = X_train[:,mask]\n",
    "X_test  = X_test[:,mask]\n"
   ]
  },
  {
   "cell_type": "code",
   "execution_count": 93,
   "metadata": {},
   "outputs": [
    {
     "name": "stdout",
     "output_type": "stream",
     "text": [
      "The accuracy of prediction is:  0.530146659424226\n",
      "The number of accurate predictions is:  976\n",
      "The accuracy of prediction is:  0.46387832699619774\n",
      "The number of accurate predictions is:  854\n",
      "The accuracy of prediction is:  0.4557305812058664\n",
      "The number of accurate predictions is:  839\n",
      "The accuracy of prediction is:  0.4557305812058664\n",
      "The number of accurate predictions is:  839\n"
     ]
    }
   ],
   "source": [
    "model = DecisionTreeClassifier()\n",
    "model = model.fit(X_train, y_train)\n",
    "predictions = model.predict(X_test)\n",
    "accuracy = accuracy_score(y_test, predictions)\n",
    "print(\"The accuracy of prediction is: \", accuracy)\n",
    "\n",
    "# find number of accurate predictions\n",
    "accurate_predictions = accuracy_score(y_test, predictions, normalize=False)\n",
    "print(\"The number of accurate predictions is: \", accurate_predictions)\n",
    "\n",
    "model = RandomForestClassifier()\n",
    "model = model.fit(X_train, y_train)\n",
    "predictions = model.predict(X_test)\n",
    "accuracy = accuracy_score(y_test, predictions)\n",
    "print(\"The accuracy of prediction is: \", accuracy)\n",
    "\n",
    "# find number of accurate predictions\n",
    "accurate_predictions = accuracy_score(y_test, predictions, normalize=False)\n",
    "print(\"The number of accurate predictions is: \", accurate_predictions)\n",
    "\n",
    "model = ExtraTreesClassifier()\n",
    "model = model.fit(X_train, y_train)\n",
    "predictions = model.predict(X_test)\n",
    "accuracy = accuracy_score(y_test, predictions)\n",
    "print(\"The accuracy of prediction is: \", accuracy)\n",
    "\n",
    "# find number of accurate predictions\n",
    "accurate_predictions = accuracy_score(y_test, predictions, normalize=False)\n",
    "print(\"The number of accurate predictions is: \", accurate_predictions)\n",
    "\n",
    "model  = KNeighborsClassifier()\n",
    "model = model.fit(X_train, y_train)\n",
    "accuracy = accuracy_score(y_test, predictions)\n",
    "print(\"The accuracy of prediction is: \", accuracy)\n",
    "\n",
    "# find number of accurate predictions\n",
    "accurate_predictions = accuracy_score(y_test, predictions, normalize=False)\n",
    "print(\"The number of accurate predictions is: \", accurate_predictions)"
   ]
  },
  {
   "cell_type": "code",
   "execution_count": 107,
   "metadata": {},
   "outputs": [],
   "source": [
    "#https://towardsdatascience.com/17-rules-of-thumb-for-building-a-neural-network-93356f9930af\n",
    "# mlp = MLPClassifier(hidden_layer_sizes=(2,4), activation='tanh', solver='adam', max_iter=15000)\n",
    "# mlp.fit(X_train,y_train)\n",
    "\n",
    "# predictions = mlp.predict(X_train)\n",
    "# # predictions = mlp.predict(X_test)\n",
    "# accuracy = accuracy_score(y_train, predictions)\n",
    "# print(\"The accuracy of prediction is: \", accuracy)\n",
    "\n",
    "# # find number of accurate predictions\n",
    "# accurate_predictions = accuracy_score(y_train, predictions, normalize=False)\n",
    "# print(\"The number of accurate predictions is: \", accurate_predictions)"
   ]
  }
 ],
 "metadata": {
  "kernelspec": {
   "display_name": "Python 3",
   "language": "python",
   "name": "python3"
  },
  "language_info": {
   "codemirror_mode": {
    "name": "ipython",
    "version": 3
   },
   "file_extension": ".py",
   "mimetype": "text/x-python",
   "name": "python",
   "nbconvert_exporter": "python",
   "pygments_lexer": "ipython3",
   "version": "3.10.11"
  }
 },
 "nbformat": 4,
 "nbformat_minor": 2
}
