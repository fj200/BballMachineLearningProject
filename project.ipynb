{
 "cells": [
  {
   "cell_type": "markdown",
   "metadata": {},
   "source": [
    "# PROJECT EECS 4404"
   ]
  },
  {
   "cell_type": "markdown",
   "metadata": {},
   "source": [
    "Preprocessing \n",
    "\n",
    "**Feature selection**\n",
    "\n",
    "**Feature extraction**"
   ]
  },
  {
   "cell_type": "code",
   "execution_count": 4,
   "metadata": {},
   "outputs": [],
   "source": [
    "# %pip install xgboost\n",
    "# %pip install lightgbm\n",
    "# %pip install imbalanced-learn"
   ]
  },
  {
   "cell_type": "code",
   "execution_count": 5,
   "metadata": {},
   "outputs": [],
   "source": [
    "\n",
    "# Data Manipulation\n",
    "import numpy as np \n",
    "import pandas as pd\n",
    "\n",
    "# Data Visualization\n",
    "import matplotlib.pyplot as plt\n",
    "\n",
    "# Machine Learning\n",
    "from   sklearn.preprocessing import OneHotEncoder, MinMaxScaler, LabelEncoder\n",
    "from   sklearn.model_selection import train_test_split, GridSearchCV\n",
    "from   sklearn.metrics import confusion_matrix , classification_report, accuracy_score, roc_auc_score, RocCurveDisplay\n",
    "from   sklearn.linear_model import LogisticRegression\n",
    "from   sklearn.tree import DecisionTreeClassifier\n",
    "from   sklearn.ensemble import RandomForestClassifier, ExtraTreesClassifier\n",
    "from   sklearn.neighbors import KNeighborsClassifier\n",
    "from   xgboost import XGBClassifier\n",
    "from   lightgbm import LGBMClassifier\n",
    "from   sklearn.feature_selection import SelectKBest, f_classif, RFECV\n",
    "from   sklearn.neural_network import MLPClassifier\n",
    "from   sklearn.experimental import enable_iterative_imputer\n",
    "from   sklearn.impute import IterativeImputer\n",
    "\n",
    "\n",
    "input_file_name = \"data/Player Per Game.csv\"\n",
    "input_target_class = 'pos'\n",
    "nba_players = label = features = X = Y = None\n",
    "encoder = OneHotEncoder()\n",
    "leEncoder = LabelEncoder()\n",
    "\n",
    "\n",
    "def visualizeData(nba_players):\n",
    "    ### no null values\n",
    "    nba_players.info()  \n",
    "    ## metrics\n",
    "    print(nba_players.groupby(input_target_class).mean())\n",
    "    # count of the values to make sure it was relatively balanced\n",
    "    print(nba_players[input_target_class].value_counts())\n",
    "\n",
    "def dropColumns(players, features):\n",
    "    ## drop some irrevelant features\n",
    "    players.drop(features, axis=1, inplace=True)\n",
    " \n"
   ]
  },
  {
   "cell_type": "code",
   "execution_count": 6,
   "metadata": {},
   "outputs": [
    {
     "data": {
      "text/plain": [
       "(12024, 18)"
      ]
     },
     "execution_count": 6,
     "metadata": {},
     "output_type": "execute_result"
    }
   ],
   "source": [
    "nba_players = pd.read_csv(input_file_name).replace({\"C-SF\": \"C\", \"C-F\": \"C\", \"C-PF\": \"C\", \"PG-SG\": \"PG\",\"PG-SF\":\"PG\",  \"PF-SF\": \"PF\", \"PF-C\": \"PF\", \"SF-SG\": \"SF\", \"SF-PG\": \"SF\", \"PF-C\": \"PF\", \"SG-SF\": \"SG\", \"SG-PG\": \"SG\", \"SG-PF\": \"SG\", \"SF-C\": \"SF\", \"SG-SF\": \"SG\", \"SG-PG-SF\": \"SG\", \"SF-PF\": \"SF\",})\n",
    "nba_players.drop_duplicates(inplace=True)\n",
    "nba_players = nba_players[nba_players['mp_per_game'] > 20]\n",
    "nba_players = nba_players[nba_players['pos'].isin([\"SG\", \"PF\", \"C\", \"SF\", \"PG\"])]\n",
    "dropColumns(nba_players, {'seas_id', 'season', 'player_id', 'player', 'birth_year','age',\n",
    "       'experience', 'lg', 'tm', 'g', 'gs', 'mp_per_game', 'pf_per_game', 'ft_percent','fta_per_game', 'ft_per_game'})\n",
    "features = list(nba_players.columns.delete(0))\n",
    "\n",
    "imputer = IterativeImputer(max_iter=10, random_state=0)\n",
    "\n",
    "for i in nba_players.columns[nba_players.isnull().any(axis=0)]:     #---Applying Only on variables with NaN values\n",
    "   nba_players[i] = imputer.fit_transform(np.reshape(nba_players[i].values, (-1, 1)))\n",
    "\n",
    "\n",
    "x = nba_players[features].values\n",
    "y = nba_players[input_target_class].values\n",
    "y = encoder.fit_transform(np.reshape(y, (-1, 1))).toarray()\n",
    "X_train, X_test, y_train, y_test = train_test_split(x, y, test_size=0.18, random_state=42)\n",
    "min_max_scaler = MinMaxScaler().fit(X_train)  \n",
    "X_train, X_test = min_max_scaler.transform(X_train), min_max_scaler.transform(X_test)\n",
    "\n",
    "X_train.shape\n"
   ]
  },
  {
   "cell_type": "code",
   "execution_count": 7,
   "metadata": {},
   "outputs": [
    {
     "name": "stdout",
     "output_type": "stream",
     "text": [
      "<class 'pandas.core.frame.DataFrame'>\n",
      "Index: 14664 entries, 2 to 30465\n",
      "Data columns (total 19 columns):\n",
      " #   Column         Non-Null Count  Dtype  \n",
      "---  ------         --------------  -----  \n",
      " 0   pos            14664 non-null  object \n",
      " 1   fg_per_game    14664 non-null  float64\n",
      " 2   fga_per_game   14664 non-null  float64\n",
      " 3   fg_percent     14664 non-null  float64\n",
      " 4   x3p_per_game   14664 non-null  float64\n",
      " 5   x3pa_per_game  14664 non-null  float64\n",
      " 6   x3p_percent    14664 non-null  float64\n",
      " 7   x2p_per_game   14664 non-null  float64\n",
      " 8   x2pa_per_game  14664 non-null  float64\n",
      " 9   x2p_percent    14664 non-null  float64\n",
      " 10  e_fg_percent   14664 non-null  float64\n",
      " 11  orb_per_game   14664 non-null  float64\n",
      " 12  drb_per_game   14664 non-null  float64\n",
      " 13  trb_per_game   14664 non-null  float64\n",
      " 14  ast_per_game   14664 non-null  float64\n",
      " 15  stl_per_game   14664 non-null  float64\n",
      " 16  blk_per_game   14664 non-null  float64\n",
      " 17  tov_per_game   14664 non-null  float64\n",
      " 18  pts_per_game   14664 non-null  float64\n",
      "dtypes: float64(18), object(1)\n",
      "memory usage: 2.2+ MB\n",
      "     fg_per_game  fga_per_game  fg_percent  x3p_per_game  x3pa_per_game  \\\n",
      "pos                                                                       \n",
      "C       4.933918      9.963770    0.497874      0.257389       0.751607   \n",
      "PF      4.941384     10.534803    0.469000      0.504181       1.455618   \n",
      "PG      4.717365     10.777645    0.434954      0.893437       2.543927   \n",
      "SF      5.184779     11.394364    0.451752      0.816301       2.289198   \n",
      "SG      5.188450     11.722637    0.439919      1.019711       2.840514   \n",
      "\n",
      "     x3p_percent  x2p_per_game  x2pa_per_game  x2p_percent  e_fg_percent  \\\n",
      "pos                                                                        \n",
      "C       0.204928      4.817497       9.613193     0.504990      0.503265   \n",
      "PF      0.241945      4.572286       9.464722     0.486198      0.487683   \n",
      "PG      0.304418      3.953460       8.598603     0.458125      0.471075   \n",
      "SF      0.295282      4.504624       9.491158     0.476378      0.485626   \n",
      "SG      0.314532      4.296387       9.244225     0.466173      0.481456   \n",
      "\n",
      "     orb_per_game  drb_per_game  trb_per_game  ast_per_game  stl_per_game  \\\n",
      "pos                                                                         \n",
      "C        2.398640      5.436519      8.671343      1.785373      0.755345   \n",
      "PF       2.047610      4.825207      7.398168      1.919946      0.862718   \n",
      "PG       0.763512      2.581531      3.175116      5.365403      1.198089   \n",
      "SF       1.395931      3.570006      5.168883      2.340533      0.991729   \n",
      "SG       0.929310      2.682891      3.478721      3.055960      1.046833   \n",
      "\n",
      "     blk_per_game  tov_per_game  pts_per_game  \n",
      "pos                                            \n",
      "C        1.218234      1.820343     12.577401  \n",
      "PF       0.730630      1.783171     12.821947  \n",
      "PG       0.262589      2.151542     12.721956  \n",
      "SF       0.488338      1.769335     13.679379  \n",
      "SG       0.344959      1.818814     13.859234  \n",
      "pos\n",
      "SG    3238\n",
      "PG    3006\n",
      "SF    2963\n",
      "PF    2948\n",
      "C     2509\n",
      "Name: count, dtype: int64\n"
     ]
    },
    {
     "data": {
      "text/plain": [
       "fg_per_game      0.860670\n",
       "fga_per_game     0.749044\n",
       "fg_percent       0.374438\n",
       "x3p_per_game     1.255505\n",
       "x3pa_per_game    1.065179\n",
       "x3p_percent     -0.252359\n",
       "x2p_per_game     0.854352\n",
       "x2pa_per_game    0.794591\n",
       "x2p_percent      0.279731\n",
       "e_fg_percent     0.164877\n",
       "orb_per_game     1.092352\n",
       "drb_per_game     1.212461\n",
       "trb_per_game     1.392297\n",
       "ast_per_game     1.443482\n",
       "stl_per_game     1.203823\n",
       "blk_per_game     2.504541\n",
       "tov_per_game     0.760921\n",
       "pts_per_game     0.892196\n",
       "dtype: float64"
      ]
     },
     "execution_count": 7,
     "metadata": {},
     "output_type": "execute_result"
    }
   ],
   "source": [
    "visualizeData(nba_players)\n",
    "dropColumns(nba_players, input_target_class) \n",
    "nba_players.skew()"
   ]
  },
  {
   "cell_type": "code",
   "execution_count": 8,
   "metadata": {},
   "outputs": [
    {
     "name": "stdout",
     "output_type": "stream",
     "text": [
      "            Specs        Score\n",
      "12   trb_per_game  2985.979641\n",
      "13   ast_per_game  2356.845097\n",
      "10   orb_per_game  2265.257237\n",
      "11   drb_per_game  1989.769309\n",
      "15   blk_per_game  1646.211476\n",
      "4   x3pa_per_game   555.980284\n",
      "2      fg_percent   544.312705\n",
      "3    x3p_per_game   497.831603\n",
      "14   stl_per_game   402.405629\n",
      "5     x3p_percent   340.842662\n",
      "8     x2p_percent   221.641119\n",
      "16   tov_per_game   115.880705\n",
      "9    e_fg_percent    90.639143\n",
      "1    fga_per_game    66.479511\n",
      "6    x2p_per_game    56.389629\n",
      "17   pts_per_game    29.906770\n",
      "0     fg_per_game    24.740448\n",
      "7   x2pa_per_game    22.080921\n"
     ]
    },
    {
     "name": "stderr",
     "output_type": "stream",
     "text": [
      "C:\\Users\\User\\AppData\\Local\\Packages\\PythonSoftwareFoundation.Python.3.10_qbz5n2kfra8p0\\LocalCache\\local-packages\\Python310\\site-packages\\sklearn\\utils\\validation.py:1183: DataConversionWarning: A column-vector y was passed when a 1d array was expected. Please change the shape of y to (n_samples, ), for example using ravel().\n",
      "  y = column_or_1d(y, warn=True)\n"
     ]
    },
    {
     "data": {
      "image/png": "[encoded data removed]",
      "text/plain": [
       "<Figure size 640x480 with 1 Axes>"
      ]
     },
     "metadata": {},
     "output_type": "display_data"
    },
    {
     "name": "stdout",
     "output_type": "stream",
     "text": [
      "Optimal number of features: 16\n"
     ]
    }
   ],
   "source": [
    "topFeatures = 18\n",
    "selector = SelectKBest(score_func=f_classif, k=topFeatures)  \n",
    "fit = selector.fit(X_train, encoder.inverse_transform(y_train))\n",
    "\n",
    "dfscores = pd.DataFrame(fit.scores_)\n",
    "dfcolumns = pd.DataFrame(features)\n",
    "#concat two dataframes for better visualization \n",
    "featureScores = pd.concat([dfcolumns,dfscores],axis=1)\n",
    "featureScores.columns = ['Specs','Score']  #naming the dataframe columns\n",
    "print(featureScores.nlargest(topFeatures,'Score'))\n",
    "\n",
    "model = ExtraTreesClassifier()\n",
    "model.fit(X_train, y_train)\n",
    "#plot graph of feature importances for better visualization\n",
    "feat_importances = pd.Series(model.feature_importances_, index=features)\n",
    "feat_importances.nlargest(topFeatures).plot(kind='barh')\n",
    "plt.show()\n",
    "\n",
    "rfc = RandomForestClassifier()\n",
    "min_features_to_select = 1  # Minimum number of features to consider\n",
    "\n",
    "rfecv = RFECV(\n",
    "    estimator=rfc,\n",
    "    step=1,\n",
    "    scoring=\"accuracy\",\n",
    "    min_features_to_select=min_features_to_select,\n",
    "    n_jobs=2,\n",
    ")\n",
    "rfecv.fit(X_train, y_train)\n",
    "\n",
    "print(f\"Optimal number of features: {rfecv.n_features_}\")"
   ]
  },
  {
   "cell_type": "code",
   "execution_count": 9,
   "metadata": {},
   "outputs": [
    {
     "name": "stdout",
     "output_type": "stream",
     "text": [
      "Index(['fg_per_game', 'fga_per_game', 'fg_percent', 'x3pa_per_game',\n",
      "       'x2p_per_game', 'x2pa_per_game', 'x2p_percent', 'e_fg_percent',\n",
      "       'orb_per_game', 'drb_per_game', 'trb_per_game', 'ast_per_game',\n",
      "       'stl_per_game', 'blk_per_game', 'tov_per_game', 'pts_per_game'],\n",
      "      dtype='object')\n"
     ]
    }
   ],
   "source": [
    "mask = rfecv.get_support()\n",
    "best_features = nba_players.columns[mask]\n",
    "print(best_features)  # choose using rfev selectKbest and featureInportance form classifiers\n",
    "X_old = X_train\n",
    "x_test = X_test\n",
    "X_train = X_train[:,mask]\n",
    "X_test  = X_test[:,mask]\n"
   ]
  },
  {
   "cell_type": "code",
   "execution_count": 10,
   "metadata": {},
   "outputs": [
    {
     "name": "stderr",
     "output_type": "stream",
     "text": [
      "C:\\Users\\User\\AppData\\Local\\Packages\\PythonSoftwareFoundation.Python.3.10_qbz5n2kfra8p0\\LocalCache\\local-packages\\Python310\\site-packages\\sklearn\\preprocessing\\_label.py:114: DataConversionWarning: A column-vector y was passed when a 1d array was expected. Please change the shape of y to (n_samples, ), for example using ravel().\n",
      "  y = column_or_1d(y, warn=True)\n",
      "C:\\Users\\User\\AppData\\Local\\Packages\\PythonSoftwareFoundation.Python.3.10_qbz5n2kfra8p0\\LocalCache\\local-packages\\Python310\\site-packages\\sklearn\\preprocessing\\_label.py:114: DataConversionWarning: A column-vector y was passed when a 1d array was expected. Please change the shape of y to (n_samples, ), for example using ravel().\n",
      "  y = column_or_1d(y, warn=True)\n"
     ]
    },
    {
     "name": "stdout",
     "output_type": "stream",
     "text": [
      "The accuracy of Training prediction is:  0.9989188290086494\n",
      "The number of accurate predictions is:  12011\n",
      "The accuracy of  Test prediction is:  0.6465909090909091\n",
      "The number of accurate predictions is:  1707\n",
      "The accuracy of prediction is:  0.5306818181818181\n",
      "The number of accurate predictions is:  1401\n",
      "The accuracy of prediction is:  0.5306818181818181\n",
      "The number of accurate predictions is:  1401\n"
     ]
    }
   ],
   "source": [
    "model = XGBClassifier(\n",
    "    objective='multi:softmax',\n",
    "    num_class=5,\n",
    "    learning_rate=0.015,\n",
    "    subsample=0.7,\n",
    "    max_depth=10,\n",
    "    colsample_bytree=0.5,\n",
    "    n_estimators=1000\n",
    ")\n",
    "Y_train = leEncoder.fit_transform(encoder.inverse_transform(y_train))\n",
    "Y_test = leEncoder.fit_transform(encoder.inverse_transform(y_test))\n",
    "model = model.fit(X_train, Y_train)\n",
    "\n",
    "predictions = model.predict(X_train)\n",
    "accuracy = accuracy_score(Y_train, (predictions))\n",
    "print(\"The accuracy of Training prediction is: \", accuracy)\n",
    "accurate_predictions = accuracy_score(leEncoder.fit_transform(Y_train), predictions, normalize=False)\n",
    "print(\"The number of accurate predictions is: \", accurate_predictions)\n",
    "predictions = model.predict(X_test)\n",
    "accuracy = accuracy_score(Y_test, (predictions))\n",
    "print(\"The accuracy of  Test prediction is: \", accuracy)\n",
    "accurate_predictions = accuracy_score(Y_test, predictions, normalize=False)\n",
    "print(\"The number of accurate predictions is: \", accurate_predictions)\n",
    "\n",
    "model = RandomForestClassifier()\n",
    "model = model.fit(X_train, y_train)\n",
    "predictions = model.predict(X_test)\n",
    "accuracy = accuracy_score(y_test, predictions)\n",
    "print(\"The accuracy of prediction is: \", accuracy)\n",
    "accurate_predictions = accuracy_score(y_test, predictions, normalize=False)\n",
    "print(\"The number of accurate predictions is: \", accurate_predictions)\n",
    "\n",
    "model  = KNeighborsClassifier()\n",
    "model = model.fit(X_train, y_train)\n",
    "accuracy = accuracy_score(y_test, predictions)\n",
    "print(\"The accuracy of prediction is: \", accuracy)\n",
    "accurate_predictions = accuracy_score(y_test, predictions, normalize=False)\n",
    "print(\"The number of accurate predictions is: \", accurate_predictions)"
   ]
  },
  {
   "cell_type": "code",
   "execution_count": 34,
   "metadata": {},
   "outputs": [
    {
     "data": {
      "text/html": [
       "<style>#sk-container-id-2 {color: black;}#sk-container-id-2 pre{padding: 0;}#sk-container-id-2 div.sk-toggleable {background-color: white;}#sk-container-id-2 label.sk-toggleable__label {cursor: pointer;display: block;width: 100%;margin-bottom: 0;padding: 0.3em;box-sizing: border-box;text-align: center;}#sk-container-id-2 label.sk-toggleable__label-arrow:before {content: \"▸\";float: left;margin-right: 0.25em;color: #696969;}#sk-container-id-2 label.sk-toggleable__label-arrow:hover:before {color: black;}#sk-container-id-2 div.sk-estimator:hover label.sk-toggleable__label-arrow:before {color: black;}#sk-container-id-2 div.sk-toggleable__content {max-height: 0;max-width: 0;overflow: hidden;text-align: left;background-color: #f0f8ff;}#sk-container-id-2 div.sk-toggleable__content pre {margin: 0.2em;color: black;border-radius: 0.25em;background-color: #f0f8ff;}#sk-container-id-2 input.sk-toggleable__control:checked~div.sk-toggleable__content {max-height: 200px;max-width: 100%;overflow: auto;}#sk-container-id-2 input.sk-toggleable__control:checked~label.sk-toggleable__label-arrow:before {content: \"▾\";}#sk-container-id-2 div.sk-estimator input.sk-toggleable__control:checked~label.sk-toggleable__label {background-color: #d4ebff;}#sk-container-id-2 div.sk-label input.sk-toggleable__control:checked~label.sk-toggleable__label {background-color: #d4ebff;}#sk-container-id-2 input.sk-hidden--visually {border: 0;clip: rect(1px 1px 1px 1px);clip: rect(1px, 1px, 1px, 1px);height: 1px;margin: -1px;overflow: hidden;padding: 0;position: absolute;width: 1px;}#sk-container-id-2 div.sk-estimator {font-family: monospace;background-color: #f0f8ff;border: 1px dotted black;border-radius: 0.25em;box-sizing: border-box;margin-bottom: 0.5em;}#sk-container-id-2 div.sk-estimator:hover {background-color: #d4ebff;}#sk-container-id-2 div.sk-parallel-item::after {content: \"\";width: 100%;border-bottom: 1px solid gray;flex-grow: 1;}#sk-container-id-2 div.sk-label:hover label.sk-toggleable__label {background-color: #d4ebff;}#sk-container-id-2 div.sk-serial::before {content: \"\";position: absolute;border-left: 1px solid gray;box-sizing: border-box;top: 0;bottom: 0;left: 50%;z-index: 0;}#sk-container-id-2 div.sk-serial {display: flex;flex-direction: column;align-items: center;background-color: white;padding-right: 0.2em;padding-left: 0.2em;position: relative;}#sk-container-id-2 div.sk-item {position: relative;z-index: 1;}#sk-container-id-2 div.sk-parallel {display: flex;align-items: stretch;justify-content: center;background-color: white;position: relative;}#sk-container-id-2 div.sk-item::before, #sk-container-id-2 div.sk-parallel-item::before {content: \"\";position: absolute;border-left: 1px solid gray;box-sizing: border-box;top: 0;bottom: 0;left: 50%;z-index: -1;}#sk-container-id-2 div.sk-parallel-item {display: flex;flex-direction: column;z-index: 1;position: relative;background-color: white;}#sk-container-id-2 div.sk-parallel-item:first-child::after {align-self: flex-end;width: 50%;}#sk-container-id-2 div.sk-parallel-item:last-child::after {align-self: flex-start;width: 50%;}#sk-container-id-2 div.sk-parallel-item:only-child::after {width: 0;}#sk-container-id-2 div.sk-dashed-wrapped {border: 1px dashed gray;margin: 0 0.4em 0.5em 0.4em;box-sizing: border-box;padding-bottom: 0.4em;background-color: white;}#sk-container-id-2 div.sk-label label {font-family: monospace;font-weight: bold;display: inline-block;line-height: 1.2em;}#sk-container-id-2 div.sk-label-container {text-align: center;}#sk-container-id-2 div.sk-container {/* jupyter's `normalize.less` sets `[hidden] { display: none; }` but bootstrap.min.css set `[hidden] { display: none !important; }` so we also need the `!important` here to be able to override the default hidden behavior on the sphinx rendered scikit-learn.org. See: https://github.com/scikit-learn/scikit-learn/issues/21755 */display: inline-block !important;position: relative;}#sk-container-id-2 div.sk-text-repr-fallback {display: none;}</style><div id=\"sk-container-id-2\" class=\"sk-top-container\"><div class=\"sk-text-repr-fallback\"><pre>GridSearchCV(estimator=MLPClassifier(activation=&#x27;logistic&#x27;,\n",
       "                                     learning_rate=&#x27;adaptive&#x27;,\n",
       "                                     learning_rate_init=0.1, max_iter=3000,\n",
       "                                     solver=&#x27;sgd&#x27;),\n",
       "             param_grid={&#x27;alpha&#x27;: [0.0001, 0.05, 0.1, 0.3, 0.01],\n",
       "                         &#x27;hidden_layer_sizes&#x27;: [(10, 30, 10), (12,), (12, 12),\n",
       "                                                (12, 6, 3, 1), (12, 12, 12, 12),\n",
       "                                                (12, 6, 12, 3, 12, 1)]})</pre><b>In a Jupyter environment, please rerun this cell to show the HTML representation or trust the notebook. <br />On GitHub, the HTML representation is unable to render, please try loading this page with nbviewer.org.</b></div><div class=\"sk-container\" hidden><div class=\"sk-item sk-dashed-wrapped\"><div class=\"sk-label-container\"><div class=\"sk-label sk-toggleable\"><input class=\"sk-toggleable__control sk-hidden--visually\" id=\"sk-estimator-id-4\" type=\"checkbox\" ><label for=\"sk-estimator-id-4\" class=\"sk-toggleable__label sk-toggleable__label-arrow\">GridSearchCV</label><div class=\"sk-toggleable__content\"><pre>GridSearchCV(estimator=MLPClassifier(activation=&#x27;logistic&#x27;,\n",
       "                                     learning_rate=&#x27;adaptive&#x27;,\n",
       "                                     learning_rate_init=0.1, max_iter=3000,\n",
       "                                     solver=&#x27;sgd&#x27;),\n",
       "             param_grid={&#x27;alpha&#x27;: [0.0001, 0.05, 0.1, 0.3, 0.01],\n",
       "                         &#x27;hidden_layer_sizes&#x27;: [(10, 30, 10), (12,), (12, 12),\n",
       "                                                (12, 6, 3, 1), (12, 12, 12, 12),\n",
       "                                                (12, 6, 12, 3, 12, 1)]})</pre></div></div></div><div class=\"sk-parallel\"><div class=\"sk-parallel-item\"><div class=\"sk-item\"><div class=\"sk-label-container\"><div class=\"sk-label sk-toggleable\"><input class=\"sk-toggleable__control sk-hidden--visually\" id=\"sk-estimator-id-5\" type=\"checkbox\" ><label for=\"sk-estimator-id-5\" class=\"sk-toggleable__label sk-toggleable__label-arrow\">estimator: MLPClassifier</label><div class=\"sk-toggleable__content\"><pre>MLPClassifier(activation=&#x27;logistic&#x27;, learning_rate=&#x27;adaptive&#x27;,\n",
       "              learning_rate_init=0.1, max_iter=3000, solver=&#x27;sgd&#x27;)</pre></div></div></div><div class=\"sk-serial\"><div class=\"sk-item\"><div class=\"sk-estimator sk-toggleable\"><input class=\"sk-toggleable__control sk-hidden--visually\" id=\"sk-estimator-id-6\" type=\"checkbox\" ><label for=\"sk-estimator-id-6\" class=\"sk-toggleable__label sk-toggleable__label-arrow\">MLPClassifier</label><div class=\"sk-toggleable__content\"><pre>MLPClassifier(activation=&#x27;logistic&#x27;, learning_rate=&#x27;adaptive&#x27;,\n",
       "              learning_rate_init=0.1, max_iter=3000, solver=&#x27;sgd&#x27;)</pre></div></div></div></div></div></div></div></div></div></div>"
      ],
      "text/plain": [
       "GridSearchCV(estimator=MLPClassifier(activation='logistic',\n",
       "                                     learning_rate='adaptive',\n",
       "                                     learning_rate_init=0.1, max_iter=3000,\n",
       "                                     solver='sgd'),\n",
       "             param_grid={'alpha': [0.0001, 0.05, 0.1, 0.3, 0.01],\n",
       "                         'hidden_layer_sizes': [(10, 30, 10), (12,), (12, 12),\n",
       "                                                (12, 6, 3, 1), (12, 12, 12, 12),\n",
       "                                                (12, 6, 12, 3, 12, 1)]})"
      ]
     },
     "execution_count": 34,
     "metadata": {},
     "output_type": "execute_result"
    }
   ],
   "source": [
    "parameter = {\n",
    "    'hidden_layer_sizes': [(10,30,10),(12,), (12, 12), (12,6,3,1),(12,12,12,12),(12,6,12,3,12,1)],\n",
    "    'alpha': [0.0001, 0.05, 0.1, 0.3, 0.01],\n",
    "}\n",
    "\n",
    "\n",
    "mlp = MLPClassifier(learning_rate='adaptive',learning_rate_init=0.1, activation='logistic', solver='sgd', max_iter=3000)\n",
    "grid = GridSearchCV(estimator=mlp, param_grid=parameter,)\n",
    "grid.fit(X_train,y_train)\n",
    "# mlp.fit(X_train,y_train)\n",
    "\n",
    "# predictions = mlp.predict(X_train)\n",
    "# # predictions = mlp.predict(X_test)\n",
    "# accuracy = accuracy_score(y_train, predictions)\n",
    "# print(\"The accuracy of prediction is: \", accuracy)\n",
    "\n",
    "# # find number of accurate predictions\n",
    "# accurate_predictions = accuracy_score(y_train, predictions, normalize=False)\n",
    "# # print(\"The number of accurate predictions is: \", accurate_predictions)\n",
    "# # mlp.get_params"
   ]
  },
  {
   "cell_type": "code",
   "execution_count": 35,
   "metadata": {},
   "outputs": [
    {
     "name": "stdout",
     "output_type": "stream",
     "text": [
      "{'alpha': 0.0001, 'hidden_layer_sizes': (12, 12)}\n",
      "0.5818359906047095\n"
     ]
    }
   ],
   "source": [
    "print(grid.best_params_)\n",
    "print(grid.best_score_)"
   ]
  },
  {
   "cell_type": "code",
   "execution_count": null,
   "metadata": {},
   "outputs": [],
   "source": [
    "\n",
    "plt.plot(mlp.loss_curve_, label=\"Cost\")\n",
    "plt.legend()\n",
    "plt.show()\n"
   ]
  },
  {
   "cell_type": "code",
   "execution_count": 33,
   "metadata": {},
   "outputs": [
    {
     "name": "stdout",
     "output_type": "stream",
     "text": [
      "The accuracy of prediction is:  0.5723484848484849\n",
      "The number of accurate predictions is:  1511\n"
     ]
    }
   ],
   "source": [
    "predictions = mlp.predict(X_test)\n",
    "# predictions = mlp.predict(X_test)\n",
    "accuracy = accuracy_score(y_test, predictions)\n",
    "print(\"The accuracy of prediction is: \", accuracy)\n",
    "\n",
    "# find number of accurate predictions\n",
    "accurate_predictions = accuracy_score(y_test, predictions, normalize=False)\n",
    "print(\"The number of accurate predictions is: \", accurate_predictions)"
   ]
  }
 ],
 "metadata": {
  "kernelspec": {
   "display_name": "Python 3",
   "language": "python",
   "name": "python3"
  },
  "language_info": {
   "codemirror_mode": {
    "name": "ipython",
    "version": 3
   },
   "file_extension": ".py",
   "mimetype": "text/x-python",
   "name": "python",
   "nbconvert_exporter": "python",
   "pygments_lexer": "ipython3",
   "version": "3.10.11"
  }
 },
 "nbformat": 4,
 "nbformat_minor": 2
}
